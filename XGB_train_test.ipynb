{
 "cells": [
  {
   "cell_type": "markdown",
   "source": [
    "Generate each set"
   ],
   "metadata": {
    "collapsed": false
   },
   "id": "e078bee787e629b"
  },
  {
   "cell_type": "code",
   "execution_count": null,
   "outputs": [],
   "source": [
    "# import data.xgb_data_preprocessing\n",
    "# from data.xgb_data_preprocessing import generate_dataset, aneurisk_aneurist, hug2016, hug2016snf"
   ],
   "metadata": {
    "collapsed": false
   },
   "id": "c7079796e4349d18"
  },
  {
   "cell_type": "markdown",
   "source": [
    "Go to data.xgb_data_preprocessing and run these:"
   ],
   "metadata": {
    "collapsed": false
   },
   "id": "5b407297a5535703"
  },
  {
   "cell_type": "code",
   "execution_count": null,
   "outputs": [],
   "source": [
    "# generate_dataset(which_df=aneurisk_aneurist, cut_type='ninja')\n",
    "# generate_dataset(which_df=hug2016, cut_type='ninja')\n",
    "# generate_dataset(which_df=hug2016snf, cut_type='ninja')"
   ],
   "metadata": {
    "collapsed": false
   },
   "id": "e3adbfbdf0141853"
  },
  {
   "cell_type": "markdown",
   "source": [
    "Read in train set"
   ],
   "metadata": {
    "collapsed": false
   },
   "id": "3c9fde35072cb08e"
  },
  {
   "cell_type": "code",
   "execution_count": null,
   "id": "77d120aa23596b67",
   "metadata": {
    "collapsed": true
   },
   "outputs": [],
   "source": [
    "cut_type='ninja'"
   ]
  },
  {
   "cell_type": "code",
   "execution_count": null,
   "outputs": [],
   "source": [
    "import numpy as np\n",
    "import xgboost as xgb"
   ],
   "metadata": {
    "collapsed": false
   },
   "id": "c403f11a2c274a50"
  },
  {
   "cell_type": "code",
   "execution_count": null,
   "outputs": [],
   "source": [
    "X_train = np.load(file=f'./data/xgb/{cut_type}_X_train_ndarray.npy')\n",
    "y_train = np.load(file=f'./data/xgb/{cut_type}_y_train_ndarray.npy')"
   ],
   "metadata": {
    "collapsed": false
   },
   "id": "initial_id"
  },
  {
   "cell_type": "code",
   "execution_count": null,
   "outputs": [],
   "source": [
    "# X_val = np.load(file=f'./data/xgb/{cut_type}_X_val_ndarray.npy')\n",
    "# y_val = np.load(file=f'./data/xgb/{cut_type}_y_val_ndarray.npy')"
   ],
   "metadata": {
    "collapsed": false
   },
   "id": "2d5e426fe202ee9e"
  },
  {
   "cell_type": "code",
   "execution_count": null,
   "outputs": [],
   "source": [
    "X_train.shape"
   ],
   "metadata": {
    "collapsed": false
   },
   "id": "2d7c5ae32b6ed71"
  },
  {
   "cell_type": "code",
   "execution_count": null,
   "outputs": [],
   "source": [
    "y_train.shape"
   ],
   "metadata": {
    "collapsed": false
   },
   "id": "57519c72b5d9b9ff"
  },
  {
   "cell_type": "markdown",
   "source": [
    "Construct model"
   ],
   "metadata": {
    "collapsed": false
   },
   "id": "9a3764d492458cdf"
  },
  {
   "cell_type": "code",
   "execution_count": null,
   "outputs": [],
   "source": [
    "xgb.set_config(use_rmm=True)\n",
    "current_cfg = xgb.get_config()\n",
    "assert current_cfg['use_rmm'] is True\n",
    "parameters = {'verbosity': 1, 'random_state': 7,\n",
    "              'eval_metric': 'auc', 'tree_method': 'gpu_hist', 'objective': 'binary:logistic'\n",
    "              }  # 'num_parallel_tree': 8, 'n_jobs': -1,  'booster': 'gblinear'\n",
    "model = xgb.XGBClassifier(**parameters)"
   ],
   "metadata": {
    "collapsed": false
   },
   "id": "9c6807072fbcb7b0"
  },
  {
   "cell_type": "markdown",
   "source": [
    "Grid Search Parameter (5-fold) -> Find best model"
   ],
   "metadata": {
    "collapsed": false
   },
   "id": "2be3a9ee18710b6a"
  },
  {
   "cell_type": "code",
   "execution_count": null,
   "outputs": [],
   "source": [
    "import time\n",
    "from sklearn.model_selection import GridSearchCV\n",
    "from joblib import dump, load"
   ],
   "metadata": {
    "collapsed": false
   },
   "id": "b0300f26f30191c6"
  },
  {
   "cell_type": "code",
   "execution_count": null,
   "outputs": [],
   "source": [
    "tic = time.process_time()\n",
    "grid_search = GridSearchCV(estimator=model,\n",
    "                       param_grid={'learning_rate': [0.025, 0.05, 0.075],\n",
    "                                   'max_depth': [3, 5],\n",
    "                                   'subsample': [0.8, 0.85, 0.9, 0.95]},\n",
    "                       scoring='roc_auc', n_jobs=-1, verbose=1, error_score='raise')  # n_jobs, pre_dispatch, randon_state?\n",
    "print('********************** Fitting model on train set **********************')\n",
    "grid_search.fit(X=X_train, y=y_train)\n",
    "toc = time.process_time()\n",
    "processed_time = toc - tic\n",
    "print('Fitting time = ' + str(processed_time) + ' s.')\n",
    "print('Note: The number of cross-validation splits: ' + str(grid_search.n_splits_))\n",
    "print('Note: Seconds used for refitting the best model on the whole dataset: ' + str(grid_search.refit_time_))\n",
    "print('Mean cross-validated AUC score of the best_estimator: ')\n",
    "print(grid_search.best_score_)\n",
    "print('Note: Parameter setting that gave the best results on the hold out data:')\n",
    "print(grid_search.best_params_)\n",
    "best_model = grid_search.best_estimator_\n",
    "dump(value=best_model, filename=f'./checkpoints/best_xgb_model_{cut_type}.joblib')"
   ],
   "metadata": {
    "collapsed": false
   },
   "id": "cf3e181b4537c3b3"
  },
  {
   "cell_type": "markdown",
   "source": [
    "Test model"
   ],
   "metadata": {
    "collapsed": false
   },
   "id": "c480983b3fcdce42"
  },
  {
   "cell_type": "markdown",
   "source": [
    "Read test set"
   ],
   "metadata": {
    "collapsed": false
   },
   "id": "af9ac820ca773be"
  },
  {
   "cell_type": "code",
   "execution_count": null,
   "outputs": [],
   "source": [
    "X_test = np.load(file=f'./data/xgb/{cut_type}_X_test_ndarray.npy')\n",
    "y_test = np.load(file=f'./data/xgb/{cut_type}_y_test_ndarray.npy')"
   ],
   "metadata": {
    "collapsed": false
   },
   "id": "be84401eab4531fc"
  },
  {
   "cell_type": "raw",
   "source": [
    "Test using the best model"
   ],
   "metadata": {
    "collapsed": false
   },
   "id": "71ff753f6d66adbb"
  },
  {
   "cell_type": "code",
   "execution_count": null,
   "outputs": [],
   "source": [
    "best_model = load(filename=f'./checkpoints/best_xgb_model_{cut_type}.joblib')"
   ],
   "metadata": {
    "collapsed": false
   },
   "id": "773dac2c740392b0"
  },
  {
   "cell_type": "code",
   "execution_count": null,
   "outputs": [],
   "source": [
    "tic = time.process_time()\n",
    "y_hat = best_model.predict(X_test)\n",
    "toc = time.process_time()\n",
    "processed_time = toc - tic\n",
    "print('Predicting time = ' + str(processed_time) + ' s.')"
   ],
   "metadata": {
    "collapsed": false
   },
   "id": "d2ba1a02bcbfd404"
  },
  {
   "cell_type": "markdown",
   "source": [
    "Result"
   ],
   "metadata": {
    "collapsed": false
   },
   "id": "9ef78fa909282e37"
  },
  {
   "cell_type": "markdown",
   "source": [
    "Classification Report"
   ],
   "metadata": {
    "collapsed": false
   },
   "id": "41c6181771293c19"
  },
  {
   "cell_type": "code",
   "execution_count": null,
   "outputs": [],
   "source": [
    "from sklearn.metrics import classification_report"
   ],
   "metadata": {
    "collapsed": false
   },
   "id": "e729ff0756c52023"
  },
  {
   "cell_type": "code",
   "execution_count": null,
   "outputs": [],
   "source": [
    "print(classification_report(y_true=y_test, y_pred=y_hat))"
   ],
   "metadata": {
    "collapsed": false
   },
   "id": "f1fcad48f7ba19f"
  },
  {
   "cell_type": "markdown",
   "source": [
    "Feature Importance"
   ],
   "metadata": {
    "collapsed": false
   },
   "id": "f1d201ceea4b1af9"
  },
  {
   "cell_type": "code",
   "execution_count": null,
   "outputs": [],
   "source": [
    "from numpy.lib.function_base import flip\n",
    "from numpy.core.fromnumeric import argsort\n",
    "\n",
    "top_10_features=flip(argsort(best_model.feature_importances_),axis=0)[:10]\n",
    "print(top_10_features)"
   ],
   "metadata": {
    "collapsed": false
   },
   "id": "1dc5c0ab83254f03"
  },
  {
   "cell_type": "markdown",
   "source": [
    "Figure"
   ],
   "metadata": {
    "collapsed": false
   },
   "id": "7d83088ac6c01bcd"
  },
  {
   "cell_type": "code",
   "execution_count": null,
   "outputs": [],
   "source": [
    "import matplotlib.pyplot as plt\n",
    "from sklearn.metrics import roc_curve, roc_auc_score\n",
    "import os\n",
    "import pickle"
   ],
   "metadata": {
    "collapsed": false
   },
   "id": "b143de7c8d8eba88"
  },
  {
   "cell_type": "code",
   "execution_count": null,
   "outputs": [],
   "source": [
    "# Predict probabilities of the positive class\n",
    "y_probs = best_model.predict_proba(X_test)[:, 1]\n",
    "\n",
    "# Calculate ROC curve and AUC\n",
    "fpr, tpr, thresholds = roc_curve(y_test, y_probs)\n",
    "roc_auc = roc_auc_score(y_test, y_probs)\n",
    "\n",
    "roc_data=[(fpr, tpr, roc_auc)]\n",
    "\n",
    "os.makedirs(name='./results', exist_ok=True)\n",
    "with open(f'./results/xgb_roc_data_{cut_type}.pkl', 'wb') as f:\n",
    "        pickle.dump((fpr, tpr, roc_auc), f)"
   ],
   "metadata": {
    "collapsed": false
   },
   "id": "510023cc8b5ebca6"
  },
  {
   "cell_type": "code",
   "execution_count": null,
   "outputs": [],
   "source": [
    "# with open('results/xgb_roc_data_ninja.pkl', 'rb') as f:\n",
    "#         fpr, tpr, roc_auc = pickle.load(f)\n",
    "# Plot ROC curve\n",
    "plt.figure(figsize=(8, 6))\n",
    "plt.plot(fpr, tpr, color='darkorange', lw=2, label='ROC curve (AUC = {:.2f})'.format(roc_auc))\n",
    "plt.plot([0, 1], [0, 1], color='navy', lw=2, linestyle='--')\n",
    "plt.xlim([0.0, 1.0])\n",
    "plt.ylim([0.0, 1.05])\n",
    "plt.xlabel('False Positive Rate')\n",
    "plt.ylabel('True Positive Rate')\n",
    "plt.title('Receiver Operating Characteristic (ROC)')\n",
    "plt.legend(loc=\"lower right\")\n",
    "\n",
    "# Show the plot\n",
    "plt.show()"
   ],
   "metadata": {
    "collapsed": false
   },
   "id": "cc7ad1997cc59e2d"
  }
 ],
 "metadata": {
  "kernelspec": {
   "display_name": "Python 3",
   "language": "python",
   "name": "python3"
  },
  "language_info": {
   "codemirror_mode": {
    "name": "ipython",
    "version": 2
   },
   "file_extension": ".py",
   "mimetype": "text/x-python",
   "name": "python",
   "nbconvert_exporter": "python",
   "pygments_lexer": "ipython2",
   "version": "2.7.6"
  }
 },
 "nbformat": 4,
 "nbformat_minor": 5
}
