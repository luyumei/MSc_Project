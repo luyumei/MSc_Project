{
 "cells": [
  {
   "cell_type": "code",
   "execution_count": null,
   "outputs": [],
   "source": [
    "from torch import load\n",
    "from data.DataLoad_utils import mesh_resolution,cut_type\n",
    "from construct_model import classifier\n",
    "from torch import no_grad\n",
    "from test_util import test\n",
    "from training_utils import test_DataLoader\n",
    "from sklearn.metrics import roc_curve, auc\n",
    "import os\n",
    "import pickle\n",
    "import matplotlib.pyplot as plt"
   ],
   "metadata": {
    "collapsed": false
   },
   "id": "83175016527a08c0"
  },
  {
   "cell_type": "code",
   "execution_count": null,
   "id": "initial_id",
   "metadata": {
    "collapsed": true
   },
   "outputs": [],
   "source": [
    "checkpoint = load(f'./checkpoints/best_model_00{mesh_resolution}_{cut_type}.pth')\n",
    "classifier.load_state_dict(checkpoint['model_state_dict'])"
   ]
  },
  {
   "cell_type": "code",
   "execution_count": null,
   "outputs": [],
   "source": [
    "vote_num=3\n",
    "\n",
    "with no_grad():\n",
    "  if vote_num>1:\n",
    "    instance_acc, class_acc, predictions, labels = test(classifier.eval(), test_DataLoader, vote_num=vote_num, num_class=2)\n",
    "  elif 1==vote_num:\n",
    "    instance_acc, class_acc, predictions, labels, all_features = test(classifier.eval(), test_DataLoader, vote_num=vote_num, num_class=2)\n",
    "    print('Test Instance Accuracy: %f, Class Accuracy: %f' % (instance_acc, class_acc))"
   ],
   "metadata": {
    "collapsed": false
   },
   "id": "f99493f1980eb07b"
  },
  {
   "cell_type": "code",
   "execution_count": null,
   "outputs": [],
   "source": [
    "labels.shape"
   ],
   "metadata": {
    "collapsed": false
   },
   "id": "3f2e4fc12761cb4"
  },
  {
   "cell_type": "code",
   "execution_count": null,
   "outputs": [],
   "source": [
    "predictions.shape"
   ],
   "metadata": {
    "collapsed": false
   },
   "id": "90f667659d5cf7c1"
  },
  {
   "cell_type": "code",
   "execution_count": null,
   "outputs": [],
   "source": [
    "fpr = dict()\n",
    "tpr = dict()\n",
    "roc_auc = dict()\n",
    "\n",
    "class_idx=1#只关心正例（破裂了）\n",
    "fpr[class_idx], tpr[class_idx], _ = roc_curve(labels == class_idx, predictions[:, class_idx])\n",
    "roc_auc[class_idx] = auc(fpr[class_idx], tpr[class_idx])\n",
    "\n",
    "roc_data=[(fpr, tpr, roc_auc)]\n",
    "\n",
    "os.makedirs(name='./results', exist_ok=True)\n",
    "with open(f'./results/PC_NN_roc_data_00{mesh_resolution}_{cut_type}.pkl', 'wb') as f:\n",
    "        pickle.dump((fpr, tpr, roc_auc), f)"
   ],
   "metadata": {
    "collapsed": false
   },
   "id": "3d58a04de07df219"
  },
  {
   "cell_type": "code",
   "execution_count": null,
   "outputs": [],
   "source": [
    "curves_to_merge = ['./results/PC_NN_roc_data_005_ninja.pkl']  # 你需要指定所有保存的文件名,'./results/PC_NN_roc_data_005_ninja.pkl'\n",
    "\n",
    "plt.figure()\n",
    "\n",
    "for curve in curves_to_merge:\n",
    "    with open(curve, 'rb') as f:\n",
    "        fpr, tpr, roc_auc = pickle.load(f)\n",
    "    class_idx=1\n",
    "    curve=curve.split('.pkl')[0]\n",
    "    curve=curve.split('_')[-1]\n",
    "    plt.plot(fpr[class_idx], tpr[class_idx], label=f'{curve}, Class {class_idx} (AUC = {roc_auc[class_idx]:.2f})')\n",
    "\n",
    "plt.plot([0, 1], [0, 1], 'k--')\n",
    "plt.xlim([0.0, 1.0])\n",
    "plt.ylim([0.0, 1.05])\n",
    "plt.xlabel('False Positive Rate')\n",
    "plt.ylabel('True Positive Rate')\n",
    "plt.title('ROC Curve')\n",
    "plt.legend(loc=\"lower right\")\n",
    "plt.show()"
   ],
   "metadata": {
    "collapsed": false
   },
   "id": "9edd32baf1cbfc58"
  }
 ],
 "metadata": {
  "kernelspec": {
   "display_name": "Python 3",
   "language": "python",
   "name": "python3"
  },
  "language_info": {
   "codemirror_mode": {
    "name": "ipython",
    "version": 2
   },
   "file_extension": ".py",
   "mimetype": "text/x-python",
   "name": "python",
   "nbconvert_exporter": "python",
   "pygments_lexer": "ipython2",
   "version": "2.7.6"
  }
 },
 "nbformat": 4,
 "nbformat_minor": 5
}
