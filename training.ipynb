{
 "cells": [
  {
   "cell_type": "markdown",
   "source": [
    "vtp_dir & csvs_directory are set in ./data/vtp_to_point_cloud.py"
   ],
   "metadata": {
    "collapsed": false,
    "id": "f8054825cdad8890"
   },
   "id": "f8054825cdad8890"
  },
  {
   "cell_type": "markdown",
   "source": [
    "mesh_resolution, cut_type, num_samples are set in ./data/DataLoad_utils.py"
   ],
   "metadata": {
    "collapsed": false,
    "id": "dca415ed08d60a1"
   },
   "id": "dca415ed08d60a1"
  },
  {
   "cell_type": "code",
   "source": [
    "from google.colab import drive\n",
    "drive.mount('/content/drive')\n",
    "%cd '/content/drive/MyDrive/Colab Notebooks/final'"
   ],
   "metadata": {
    "colab": {
     "base_uri": "https://localhost:8080/"
    },
    "id": "yeNw2lM-dajz",
    "executionInfo": {
     "status": "ok",
     "timestamp": 1692734462135,
     "user_tz": -60,
     "elapsed": 20070,
     "user": {
      "displayName": "ʕ •ᴥ•ʔ",
      "userId": "18410415948631689741"
     }
    },
    "outputId": "c2887f4e-b8d4-403e-8717-9c7b39022de0",
    "ExecuteTime": {
     "end_time": "2023-08-22T19:24:58.966853Z",
     "start_time": "2023-08-22T19:24:58.913308Z"
    }
   },
   "id": "yeNw2lM-dajz",
   "execution_count": 1,
   "outputs": [
    {
     "output_type": "stream",
     "name": "stdout",
     "text": [
      "Mounted at /content/drive\n",
      "/content/drive/MyDrive/Colab Notebooks/final\n"
     ]
    }
   ]
  },
  {
   "cell_type": "code",
   "source": [
    "!pip install vtk"
   ],
   "metadata": {
    "colab": {
     "base_uri": "https://localhost:8080/"
    },
    "id": "CTDG4k2eeofy",
    "executionInfo": {
     "status": "ok",
     "timestamp": 1692734471342,
     "user_tz": -60,
     "elapsed": 9214,
     "user": {
      "displayName": "ʕ •ᴥ•ʔ",
      "userId": "18410415948631689741"
     }
    },
    "outputId": "6f7bacf3-9f36-46d5-c522-bb5bfb53ede7",
    "ExecuteTime": {
     "end_time": "2023-08-22T19:24:58.967694Z",
     "start_time": "2023-08-22T19:24:58.921333Z"
    }
   },
   "id": "CTDG4k2eeofy",
   "execution_count": 2,
   "outputs": [
    {
     "output_type": "stream",
     "name": "stdout",
     "text": [
      "Collecting vtk\n",
      "  Downloading vtk-9.2.6-cp310-cp310-manylinux_2_17_x86_64.manylinux2014_x86_64.whl (79.3 MB)\n",
      "\u001B[2K     \u001B[90m━━━━━━━━━━━━━━━━━━━━━━━━━━━━━━━━━━━━━━━━\u001B[0m \u001B[32m79.3/79.3 MB\u001B[0m \u001B[31m12.4 MB/s\u001B[0m eta \u001B[36m0:00:00\u001B[0m\n",
      "\u001B[?25hRequirement already satisfied: matplotlib>=2.0.0 in /usr/local/lib/python3.10/dist-packages (from vtk) (3.7.1)\n",
      "Requirement already satisfied: contourpy>=1.0.1 in /usr/local/lib/python3.10/dist-packages (from matplotlib>=2.0.0->vtk) (1.1.0)\n",
      "Requirement already satisfied: cycler>=0.10 in /usr/local/lib/python3.10/dist-packages (from matplotlib>=2.0.0->vtk) (0.11.0)\n",
      "Requirement already satisfied: fonttools>=4.22.0 in /usr/local/lib/python3.10/dist-packages (from matplotlib>=2.0.0->vtk) (4.42.0)\n",
      "Requirement already satisfied: kiwisolver>=1.0.1 in /usr/local/lib/python3.10/dist-packages (from matplotlib>=2.0.0->vtk) (1.4.4)\n",
      "Requirement already satisfied: numpy>=1.20 in /usr/local/lib/python3.10/dist-packages (from matplotlib>=2.0.0->vtk) (1.23.5)\n",
      "Requirement already satisfied: packaging>=20.0 in /usr/local/lib/python3.10/dist-packages (from matplotlib>=2.0.0->vtk) (23.1)\n",
      "Requirement already satisfied: pillow>=6.2.0 in /usr/local/lib/python3.10/dist-packages (from matplotlib>=2.0.0->vtk) (9.4.0)\n",
      "Requirement already satisfied: pyparsing>=2.3.1 in /usr/local/lib/python3.10/dist-packages (from matplotlib>=2.0.0->vtk) (3.1.1)\n",
      "Requirement already satisfied: python-dateutil>=2.7 in /usr/local/lib/python3.10/dist-packages (from matplotlib>=2.0.0->vtk) (2.8.2)\n",
      "Requirement already satisfied: six>=1.5 in /usr/local/lib/python3.10/dist-packages (from python-dateutil>=2.7->matplotlib>=2.0.0->vtk) (1.16.0)\n",
      "Installing collected packages: vtk\n",
      "Successfully installed vtk-9.2.6\n"
     ]
    }
   ]
  },
  {
   "cell_type": "code",
   "execution_count": 3,
   "id": "initial_id",
   "metadata": {
    "collapsed": true,
    "id": "initial_id",
    "executionInfo": {
     "status": "ok",
     "timestamp": 1692734471343,
     "user_tz": -60,
     "elapsed": 9,
     "user": {
      "displayName": "ʕ •ᴥ•ʔ",
      "userId": "18410415948631689741"
     }
    },
    "ExecuteTime": {
     "end_time": "2023-08-22T19:24:58.967912Z",
     "start_time": "2023-08-22T19:24:58.938869Z"
    }
   },
   "outputs": [],
   "source": [
    "from pathlib import Path\n",
    "checkpoints_dir = Path('./checkpoints/')\n",
    "checkpoints_dir.mkdir(exist_ok=True)"
   ]
  },
  {
   "cell_type": "code",
   "execution_count": 4,
   "outputs": [
    {
     "output_type": "stream",
     "name": "stdout",
     "text": [
      "mesh_resolution:5\n",
      "cut_type:ninja\n",
      "{'unruptured': 132, 'ruptured': 133}\n",
      "{'unruptured': 263, 'ruptured': 87}\n",
      "{'unruptured': 79, 'ruptured': 41}\n",
      "['./data/original_data/remeshed/area-005/ninja/C0001_ninja.vtp', './data/original_data/remeshed/area-005/ninja/C0002_ninja.vtp', './data/original_data/remeshed/area-005/ninja/C0003_ninja.vtp', './data/original_data/remeshed/area-005/ninja/C0005_ninja.vtp', './data/original_data/remeshed/area-005/ninja/C0006_ninja.vtp', './data/original_data/remeshed/area-005/ninja/C0007a_ninja.vtp', './data/original_data/remeshed/area-005/ninja/C0008_ninja.vtp', './data/original_data/remeshed/area-005/ninja/C0009_ninja.vtp', './data/original_data/remeshed/area-005/ninja/C0010_ninja.vtp', './data/original_data/remeshed/area-005/ninja/C0011_ninja.vtp', './data/original_data/remeshed/area-005/ninja/C0012_ninja.vtp', './data/original_data/remeshed/area-005/ninja/C0013_ninja.vtp', './data/original_data/remeshed/area-005/ninja/C0014_ninja.vtp', './data/original_data/remeshed/area-005/ninja/C0015_ninja.vtp', './data/original_data/remeshed/area-005/ninja/C0016_ninja.vtp', './data/original_data/remeshed/area-005/ninja/C0017_ninja.vtp', './data/original_data/remeshed/area-005/ninja/C0018_ninja.vtp', './data/original_data/remeshed/area-005/ninja/C0019_ninja.vtp', './data/original_data/remeshed/area-005/ninja/C0020_ninja.vtp', './data/original_data/remeshed/area-005/ninja/C0021_ninja.vtp', './data/original_data/remeshed/area-005/ninja/C0023_ninja.vtp', './data/original_data/remeshed/area-005/ninja/C0024_ninja.vtp', './data/original_data/remeshed/area-005/ninja/C0025a_ninja.vtp', './data/original_data/remeshed/area-005/ninja/C0026_ninja.vtp', './data/original_data/remeshed/area-005/ninja/C0027_ninja.vtp', './data/original_data/remeshed/area-005/ninja/C0028a_ninja.vtp', './data/original_data/remeshed/area-005/ninja/C0028b_ninja.vtp', './data/original_data/remeshed/area-005/ninja/C0029_ninja.vtp', './data/original_data/remeshed/area-005/ninja/C0030_ninja.vtp', './data/original_data/remeshed/area-005/ninja/C0031_ninja.vtp', './data/original_data/remeshed/area-005/ninja/C0032_ninja.vtp', './data/original_data/remeshed/area-005/ninja/C0033_ninja.vtp', './data/original_data/remeshed/area-005/ninja/C0034_ninja.vtp', './data/original_data/remeshed/area-005/ninja/C0035_ninja.vtp', './data/original_data/remeshed/area-005/ninja/C0036_ninja.vtp', './data/original_data/remeshed/area-005/ninja/C0037_ninja.vtp', './data/original_data/remeshed/area-005/ninja/C0038_ninja.vtp', './data/original_data/remeshed/area-005/ninja/C0039a_ninja.vtp', './data/original_data/remeshed/area-005/ninja/C0040_ninja.vtp', './data/original_data/remeshed/area-005/ninja/C0041_ninja.vtp', './data/original_data/remeshed/area-005/ninja/C0042_ninja.vtp', './data/original_data/remeshed/area-005/ninja/C0043_ninja.vtp', './data/original_data/remeshed/area-005/ninja/C0044_ninja.vtp', './data/original_data/remeshed/area-005/ninja/C0045_ninja.vtp', './data/original_data/remeshed/area-005/ninja/C0046_ninja.vtp', './data/original_data/remeshed/area-005/ninja/C0047_ninja.vtp', './data/original_data/remeshed/area-005/ninja/C0048_ninja.vtp', './data/original_data/remeshed/area-005/ninja/C0049a_ninja.vtp', './data/original_data/remeshed/area-005/ninja/C0050_ninja.vtp', './data/original_data/remeshed/area-005/ninja/C0051_ninja.vtp', './data/original_data/remeshed/area-005/ninja/C0052_ninja.vtp', './data/original_data/remeshed/area-005/ninja/C0053_ninja.vtp', './data/original_data/remeshed/area-005/ninja/C0054_ninja.vtp', './data/original_data/remeshed/area-005/ninja/C0055_ninja.vtp', './data/original_data/remeshed/area-005/ninja/C0056_ninja.vtp', './data/original_data/remeshed/area-005/ninja/C0057a_ninja.vtp', './data/original_data/remeshed/area-005/ninja/C0057b_ninja.vtp', './data/original_data/remeshed/area-005/ninja/C0058_ninja.vtp', './data/original_data/remeshed/area-005/ninja/C0059_ninja.vtp', './data/original_data/remeshed/area-005/ninja/C0060_ninja.vtp', './data/original_data/remeshed/area-005/ninja/C0061_ninja.vtp', './data/original_data/remeshed/area-005/ninja/C0062_ninja.vtp', './data/original_data/remeshed/area-005/ninja/C0063_ninja.vtp', './data/original_data/remeshed/area-005/ninja/C0064_ninja.vtp', './data/original_data/remeshed/area-005/ninja/C0065_ninja.vtp', './data/original_data/remeshed/area-005/ninja/C0066_ninja.vtp', './data/original_data/remeshed/area-005/ninja/C0067_ninja.vtp', './data/original_data/remeshed/area-005/ninja/C0068_ninja.vtp', './data/original_data/remeshed/area-005/ninja/C0069_ninja.vtp', './data/original_data/remeshed/area-005/ninja/C0070_ninja.vtp', './data/original_data/remeshed/area-005/ninja/C0071_ninja.vtp', './data/original_data/remeshed/area-005/ninja/C0072_ninja.vtp', './data/original_data/remeshed/area-005/ninja/C0073_ninja.vtp', './data/original_data/remeshed/area-005/ninja/C0074a_ninja.vtp', './data/original_data/remeshed/area-005/ninja/C0074b_ninja.vtp', './data/original_data/remeshed/area-005/ninja/C0075_ninja.vtp', './data/original_data/remeshed/area-005/ninja/C0076_ninja.vtp', './data/original_data/remeshed/area-005/ninja/C0077_ninja.vtp', './data/original_data/remeshed/area-005/ninja/C0078_ninja.vtp', './data/original_data/remeshed/area-005/ninja/C0079_ninja.vtp', './data/original_data/remeshed/area-005/ninja/C0080_ninja.vtp', './data/original_data/remeshed/area-005/ninja/C0081_ninja.vtp', './data/original_data/remeshed/area-005/ninja/C0082_ninja.vtp', './data/original_data/remeshed/area-005/ninja/C0083_ninja.vtp', './data/original_data/remeshed/area-005/ninja/C0084_ninja.vtp', './data/original_data/remeshed/area-005/ninja/C0085_ninja.vtp', './data/original_data/remeshed/area-005/ninja/C0086_ninja.vtp', './data/original_data/remeshed/area-005/ninja/C0087a_ninja.vtp', './data/original_data/remeshed/area-005/ninja/C0088a_ninja.vtp', './data/original_data/remeshed/area-005/ninja/C0088b_ninja.vtp', './data/original_data/remeshed/area-005/ninja/C0089_ninja.vtp', './data/original_data/remeshed/area-005/ninja/C0090_ninja.vtp', './data/original_data/remeshed/area-005/ninja/C0091_ninja.vtp', './data/original_data/remeshed/area-005/ninja/C0092_ninja.vtp', './data/original_data/remeshed/area-005/ninja/C0093_ninja.vtp', './data/original_data/remeshed/area-005/ninja/C0094_ninja.vtp', './data/original_data/remeshed/area-005/ninja/C0095_ninja.vtp', './data/original_data/remeshed/area-005/ninja/C0096_ninja.vtp', './data/original_data/remeshed/area-005/ninja/C0097_ninja.vtp', './data/original_data/remeshed/area-005/ninja/C0098_ninja.vtp', './data/original_data/remeshed/area-005/ninja/C0099_ninja.vtp', './data/original_data/remeshed/area-005/ninja/ANSYS_UNIGE_09_ninja.vtp', './data/original_data/remeshed/area-005/ninja/ANSYS_UNIGE_16_ninja.vtp', './data/original_data/remeshed/area-005/ninja/ANSYS_UNIGE_17_10_ninja.vtp', './data/original_data/remeshed/area-005/ninja/ANSYS_UNIGE_27_ninja.vtp', './data/original_data/remeshed/area-005/ninja/ANSYS_UNIGE_28_269_ninja.vtp', './data/original_data/remeshed/area-005/ninja/ANSYS_UNIGE_30_612_ninja.vtp', './data/original_data/remeshed/area-005/ninja/ANSYS_UNIGE_30_614_ninja.vtp', './data/original_data/remeshed/area-005/ninja/ANSYS_UNIGE_33_628_ninja.vtp', './data/original_data/remeshed/area-005/ninja/ANSYS_UNIGE_33_631_ninja.vtp', './data/original_data/remeshed/area-005/ninja/ANSYS_UNIGE_34_ninja.vtp', './data/original_data/remeshed/area-005/ninja/ANSYS_UNIGE_35_ninja.vtp', './data/original_data/remeshed/area-005/ninja/UPF_P0001.00_ID1_ninja.vtp', './data/original_data/remeshed/area-005/ninja/UPF_P0003.00_ID1_ninja.vtp', './data/original_data/remeshed/area-005/ninja/UPF_P0012.00_ID1_ninja.vtp', './data/original_data/remeshed/area-005/ninja/UPF_P0013.00_ID1_ninja.vtp', './data/original_data/remeshed/area-005/ninja/UPF_P0016.00_ID1_ninja.vtp', './data/original_data/remeshed/area-005/ninja/UPF_P0019.00_ID1_ninja.vtp', './data/original_data/remeshed/area-005/ninja/UPF_P0024.00_ID1_ninja.vtp', './data/original_data/remeshed/area-005/ninja/UPF_P0029.00_ID1_ninja.vtp', './data/original_data/remeshed/area-005/ninja/UPF_P0031.00_ID1_ninja.vtp', './data/original_data/remeshed/area-005/ninja/UPF_P0034.00_ID1_ninja.vtp', './data/original_data/remeshed/area-005/ninja/UPF_P0035.00_ID1_ninja.vtp', './data/original_data/remeshed/area-005/ninja/UPF_P0038.00_ID2_ninja.vtp', './data/original_data/remeshed/area-005/ninja/UPF_P0042.00_ID1_ninja.vtp', './data/original_data/remeshed/area-005/ninja/UPF_P0042.00_ID2_ninja.vtp', './data/original_data/remeshed/area-005/ninja/UPF_P0043.00_ID1_ninja.vtp', './data/original_data/remeshed/area-005/ninja/UPF_P0044.00_ID1_ninja.vtp', './data/original_data/remeshed/area-005/ninja/UPF_P0046.00_ID1_ninja.vtp', './data/original_data/remeshed/area-005/ninja/UPF_P0048.00_ID1_ninja.vtp', './data/original_data/remeshed/area-005/ninja/UPF_P0053.00_ID1_ninja.vtp', './data/original_data/remeshed/area-005/ninja/UPF_P0056.00_ID1_ninja.vtp', './data/original_data/remeshed/area-005/ninja/UPF_P0057.00_ID1_ninja.vtp', './data/original_data/remeshed/area-005/ninja/UPF_P0058.00_ID1_ninja.vtp', './data/original_data/remeshed/area-005/ninja/UPF_P0060.00_ID1_ninja.vtp', './data/original_data/remeshed/area-005/ninja/UPF_P0061.00_ID1_ninja.vtp', './data/original_data/remeshed/area-005/ninja/UPF_P0065.00_ID1_ninja.vtp', './data/original_data/remeshed/area-005/ninja/UPF_P0067.00_ID1_ninja.vtp', './data/original_data/remeshed/area-005/ninja/UPF_P0070.00_ID1_ninja.vtp', './data/original_data/remeshed/area-005/ninja/UPF_P0076.00_ID1_ninja.vtp', './data/original_data/remeshed/area-005/ninja/UPF_P0078.00_ID1_ninja.vtp', './data/original_data/remeshed/area-005/ninja/UPF_P0082.00_ID1_ninja.vtp', './data/original_data/remeshed/area-005/ninja/UPF_P0084.00_ID1_ninja.vtp', './data/original_data/remeshed/area-005/ninja/UPF_P0089.00_ID2_ninja.vtp', './data/original_data/remeshed/area-005/ninja/UPF_P0090.00_ID1_ninja.vtp', './data/original_data/remeshed/area-005/ninja/UPF_P0092.00_ID1_ninja.vtp', './data/original_data/remeshed/area-005/ninja/UPF_P0098.00_ID2_ninja.vtp', './data/original_data/remeshed/area-005/ninja/UPF_P0099.00_ID1_ninja.vtp', './data/original_data/remeshed/area-005/ninja/UPF_P0103.00_ID1_ninja.vtp', './data/original_data/remeshed/area-005/ninja/UPF_P0106.00_ID1_ninja.vtp', './data/original_data/remeshed/area-005/ninja/UPF_P0108.00_ID1_ninja.vtp', './data/original_data/remeshed/area-005/ninja/UPF_P0117.00_ID1_ninja.vtp', './data/original_data/remeshed/area-005/ninja/UPF_P0120.00_ID2_ninja.vtp', './data/original_data/remeshed/area-005/ninja/UPF_P0123.00_ID1_ninja.vtp', './data/original_data/remeshed/area-005/ninja/UPF_P0129.00_ID1_ninja.vtp', './data/original_data/remeshed/area-005/ninja/UPF_P0134.00_ID1_ninja.vtp', './data/original_data/remeshed/area-005/ninja/UPF_P0135.00_ID1_ninja.vtp', './data/original_data/remeshed/area-005/ninja/UPF_P0140.00_ID1_ninja.vtp', './data/original_data/remeshed/area-005/ninja/UPF_P0142.00_ID1_ninja.vtp', './data/original_data/remeshed/area-005/ninja/UPF_P0143.00_ID1_ninja.vtp', './data/original_data/remeshed/area-005/ninja/UPF_P0148.00_ID1_ninja.vtp', './data/original_data/remeshed/area-005/ninja/UPF_P0153.00_ID1_ninja.vtp', './data/original_data/remeshed/area-005/ninja/UPF_P0156.00_ID1_ninja.vtp', './data/original_data/remeshed/area-005/ninja/UPF_P0157.00_ID1_ninja.vtp', './data/original_data/remeshed/area-005/ninja/UPF_P0161.00_ID1_ninja.vtp', './data/original_data/remeshed/area-005/ninja/UPF_P0164.00_ID1_ninja.vtp', './data/original_data/remeshed/area-005/ninja/UPF_P0165.00_ID1_ninja.vtp', './data/original_data/remeshed/area-005/ninja/UPF_P0167.00_ID1_ninja.vtp', './data/original_data/remeshed/area-005/ninja/UPF_P0169.00_ID1_ninja.vtp', './data/original_data/remeshed/area-005/ninja/UPF_P0171.00_ID1_ninja.vtp', './data/original_data/remeshed/area-005/ninja/UPF_P0171.00_ID2_ninja.vtp', './data/original_data/remeshed/area-005/ninja/UPF_P0172.00_ID1_ninja.vtp', './data/original_data/remeshed/area-005/ninja/UPF_P0175.00_ID2_ninja.vtp', './data/original_data/remeshed/area-005/ninja/UPF_P0176.00_ID1_ninja.vtp', './data/original_data/remeshed/area-005/ninja/UPF_P0177.00_ID1_ninja.vtp', './data/original_data/remeshed/area-005/ninja/UPF_P0178.00_ID1_ninja.vtp', './data/original_data/remeshed/area-005/ninja/UPF_P0178.00_ID2_ninja.vtp', './data/original_data/remeshed/area-005/ninja/UPF_P0179.00_ID1_ninja.vtp', './data/original_data/remeshed/area-005/ninja/UPF_P0181.00_ID1_ninja.vtp', './data/original_data/remeshed/area-005/ninja/UPF_P0181.00_ID2_ninja.vtp', './data/original_data/remeshed/area-005/ninja/UPF_P0188.00_ID1_ninja.vtp', './data/original_data/remeshed/area-005/ninja/UPF_P0194.00_ID1_ninja.vtp', './data/original_data/remeshed/area-005/ninja/UPF_P0195.00_ID1_ninja.vtp', './data/original_data/remeshed/area-005/ninja/UPF_P0196.00_ID1_ninja.vtp', './data/original_data/remeshed/area-005/ninja/UPF_P0204.01_ID3_ninja.vtp', './data/original_data/remeshed/area-005/ninja/UPF_P0206.00_ID1_ninja.vtp', './data/original_data/remeshed/area-005/ninja/UPF_P0207.01_ID1_ninja.vtp', './data/original_data/remeshed/area-005/ninja/UPF_P0208.00_ID1_ninja.vtp', './data/original_data/remeshed/area-005/ninja/UPF_P0211.00_ID1_ninja.vtp', './data/original_data/remeshed/area-005/ninja/UPF_P0215.00_ID1_ninja.vtp', './data/original_data/remeshed/area-005/ninja/UPF_P0221.00_ID1_ninja.vtp', './data/original_data/remeshed/area-005/ninja/UPF_P0222.00_ID3_ninja.vtp', './data/original_data/remeshed/area-005/ninja/UPF_P0224.00_ID1_ninja.vtp', './data/original_data/remeshed/area-005/ninja/UPF_P0229.00_ID1_ninja.vtp', './data/original_data/remeshed/area-005/ninja/UPF_P0230.00_ID1_ninja.vtp', './data/original_data/remeshed/area-005/ninja/UPF_P0232.01_ID1_ninja.vtp', './data/original_data/remeshed/area-005/ninja/UPF_P0239.00_ID1_ninja.vtp', './data/original_data/remeshed/area-005/ninja/UPF_P0258.00_ID1_ninja.vtp', './data/original_data/remeshed/area-005/ninja/UPF_P0261.00_ID1_ninja.vtp', './data/original_data/remeshed/area-005/ninja/UPF_P0266.00_ID1_ninja.vtp', './data/original_data/remeshed/area-005/ninja/UPF_P0272.00_ID1_ninja.vtp', './data/original_data/remeshed/area-005/ninja/UPF_P0277.00_ID1_ninja.vtp', './data/original_data/remeshed/area-005/ninja/UPF_P0280.00_ID2_ninja.vtp', './data/original_data/remeshed/area-005/ninja/UPF_P0284.00_ID1_ninja.vtp', './data/original_data/remeshed/area-005/ninja/UPF_P0286.00_ID1_ninja.vtp', './data/original_data/remeshed/area-005/ninja/UPF_P0290.00_ID1_ninja.vtp', './data/original_data/remeshed/area-005/ninja/UPF_P0311.00_ID1_ninja.vtp', './data/original_data/remeshed/area-005/ninja/USFD_0001_ninja.vtp', './data/original_data/remeshed/area-005/ninja/USFD_0002_ninja.vtp', './data/original_data/remeshed/area-005/ninja/USFD_0004_ninja.vtp', './data/original_data/remeshed/area-005/ninja/USFD_0005_ninja.vtp', './data/original_data/remeshed/area-005/ninja/USFD_0006_ninja.vtp', './data/original_data/remeshed/area-005/ninja/USFD_0007_ninja.vtp', './data/original_data/remeshed/area-005/ninja/USFD_0008_ninja.vtp', './data/original_data/remeshed/area-005/ninja/USFD_0009_ninja.vtp', './data/original_data/remeshed/area-005/ninja/USFD_0011_ninja.vtp', './data/original_data/remeshed/area-005/ninja/USFD_0012_ninja.vtp', './data/original_data/remeshed/area-005/ninja/USFD_0013_ninja.vtp', './data/original_data/remeshed/area-005/ninja/USFD_0014_ninja.vtp', './data/original_data/remeshed/area-005/ninja/USFD_0016_ninja.vtp', './data/original_data/remeshed/area-005/ninja/USFD_0018_ninja.vtp', './data/original_data/remeshed/area-005/ninja/USFD_0019_ninja.vtp', './data/original_data/remeshed/area-005/ninja/USFD_0020_ninja.vtp', './data/original_data/remeshed/area-005/ninja/USFD_0021_ninja.vtp', './data/original_data/remeshed/area-005/ninja/USFD_0022_ninja.vtp', './data/original_data/remeshed/area-005/ninja/USFD_0023_ninja.vtp', './data/original_data/remeshed/area-005/ninja/USFD_0024_ninja.vtp', './data/original_data/remeshed/area-005/ninja/USFD_0025_ninja.vtp', './data/original_data/remeshed/area-005/ninja/USFD_0026_ninja.vtp', './data/original_data/remeshed/area-005/ninja/USFD_0027_ninja.vtp', './data/original_data/remeshed/area-005/ninja/USFD_0028_ninja.vtp', './data/original_data/remeshed/area-005/ninja/USFD_0029_ninja.vtp', './data/original_data/remeshed/area-005/ninja/USFD_0030_ninja.vtp', './data/original_data/remeshed/area-005/ninja/USFD_0031_ninja.vtp', './data/original_data/remeshed/area-005/ninja/USFD_0032_ninja.vtp', './data/original_data/remeshed/area-005/ninja/USFD_0033_ninja.vtp', './data/original_data/remeshed/area-005/ninja/USFD_0035_ninja.vtp', './data/original_data/remeshed/area-005/ninja/USFD_0036_ninja.vtp', './data/original_data/remeshed/area-005/ninja/USFD_0038_ninja.vtp', './data/original_data/remeshed/area-005/ninja/USFD_0040_ninja.vtp', './data/original_data/remeshed/area-005/ninja/USFD_0041_ninja.vtp', './data/original_data/remeshed/area-005/ninja/USFD_0042_ninja.vtp', './data/original_data/remeshed/area-005/ninja/USFD_0047_ninja.vtp', './data/original_data/remeshed/area-005/ninja/USFD_0049_ninja.vtp', './data/original_data/remeshed/area-005/ninja/USFD_0051_ninja.vtp', './data/original_data/remeshed/area-005/ninja/USFD_0052_ninja.vtp', './data/original_data/remeshed/area-005/ninja/USFD_0053_ninja.vtp', './data/original_data/remeshed/area-005/ninja/USFD_0054_ninja.vtp', './data/original_data/remeshed/area-005/ninja/USFD_0055_ninja.vtp', './data/original_data/remeshed/area-005/ninja/USFD_0056_ninja.vtp', './data/original_data/remeshed/area-005/ninja/USFD_0057_ninja.vtp', './data/original_data/remeshed/area-005/ninja/USFD_0058_ninja.vtp', './data/original_data/remeshed/area-005/ninja/USFD_0059_ninja.vtp', './data/original_data/remeshed/area-005/ninja/USFD_0060_ninja.vtp', './data/original_data/remeshed/area-005/ninja/USFD_UNIGE_0001_ninja.vtp', './data/original_data/remeshed/area-005/ninja/USFD_UNIGE_0007_ninja.vtp', './data/original_data/remeshed/area-005/ninja/USFD_UNIGE_0017_ninja.vtp', './data/original_data/remeshed/area-005/ninja/USFD_UNIGE_0023_ninja.vtp', './data/original_data/remeshed/area-005/ninja/USFD_UNIGE_0027_ninja.vtp', './data/original_data/remeshed/area-005/ninja/USFD_UNIGE_0029_ninja.vtp', './data/original_data/remeshed/area-005/ninja/USFD_UNIGE_0033_ninja.vtp', './data/original_data/remeshed/area-005/ninja/USFD_UNIGE_0034_ninja.vtp', './data/original_data/remeshed/area-005/ninja/USFD_UNIGE_0037_ninja.vtp', './data/original_data/remeshed/area-005/ninja/USFD_UNIGE_0038_ninja.vtp', './data/original_data/remeshed/area-005/ninja/USFD_UNIGE_0042_ninja.vtp', './data/original_data/remeshed/area-005/ninja/p043_HAARCREcDAAQDQcbHgANDRQM_ninja.vtp', './data/original_data/remeshed/area-005/ninja/p044_BBMdFxESDBMcEwcVBhMBExQC_ninja.vtp', './data/original_data/remeshed/area-005/ninja/p046_FwQADBEGGwQBGwMdHwAADBAK_RICA_ninja.vtp', './data/original_data/remeshed/area-005/ninja/p091_ABMXCAMBFT4eAAgABwUQFxAR_LICA_ninja.vtp', './data/original_data/remeshed/area-005/ninja/p092_ABMXCAMBFT4eAAgABwUQFxAR_RICA_ninja.vtp', './data/original_data/remeshed/area-005/ninja/p094_ERUeAB4WBg0SCwcbHgAABAEU_ninja.vtp', './data/original_data/remeshed/area-005/ninja/p095_EhMHDx4NAB8BEAgBFxMMFwAW_LICA_1_ninja.vtp', './data/original_data/remeshed/area-005/ninja/p097_Eg4HEwEdGw8NChMdAxQHCxcX_ninja.vtp', './data/original_data/remeshed/area-005/ninja/p099_FxMbBAMBHAYWFxgdGwQdDBsf_ninja.vtp', './data/original_data/remeshed/area-005/ninja/p101_EwAeDgoWEw0cHwUOHg4UBhQU_ninja.vtp', './data/original_data/remeshed/area-005/ninja/p103_BAgfDgUbAQAKABgGHw4bFgYZ_ninja.vtp', './data/original_data/remeshed/area-005/ninja/p104_FhMbBBQNHB8BDAMLFw8IFxwd_ninja.vtp', './data/original_data/remeshed/area-005/ninja/p109_ARQbDwQJHAANEA8BBgAABAQN_ninja.vtp', './data/original_data/remeshed/area-005/ninja/p114_FxQVDRUaDBQUCQMdFRQJCRAK_ninja.vtp', './data/original_data/remeshed/area-005/ninja/p115_EgAeDBUaDAAfCAMdEAACCBAK_ninja.vtp', './data/original_data/remeshed/area-005/ninja/p117_BA4fAAMBDA4eBBUGBg4DBAYR_ninja.vtp', './data/original_data/remeshed/area-005/ninja/p119_AgACCAMJAAUaGwcfGxIPFxER_ninja.vtp', './data/original_data/remeshed/area-005/ninja/p120_HA4ABB4SHR8cFwMBCA4CCgcd_RICA_ninja.vtp', './data/original_data/remeshed/area-005/ninja/p121_FwgDFBUEDAgCEAMDFQgfEBAU_ninja.vtp', './data/original_data/remeshed/area-005/ninja/p122_BAQWBAMLHR8WAQMcEQ4aABEd_ninja.vtp', './data/original_data/remeshed/area-005/ninja/p124_FAQeFBMJDAQfEAUOFgQCEBYZ_RICA_ninja.vtp', './data/original_data/remeshed/area-005/ninja/p126_FAQBCQUbAQQAGwMcGhQdFhAL_1_ninja.vtp', './data/original_data/remeshed/area-005/ninja/p126_FAQBCQUbAQQAGwMcGhQdFhAL_2_ninja.vtp', './data/original_data/remeshed/area-005/ninja/p127_AwIaFhEaCAwSCwgREQkZBAcC_ninja.vtp', './data/original_data/remeshed/area-005/ninja/p128_EggcChUaBj4=LCUuDAgADhAK_Acom_2_ninja.vtp', './data/original_data/remeshed/area-005/ninja/p128_EggcChUaBh8aCw0KABUMDBsT_LICA_ninja.vtp', './data/original_data/remeshed/area-005/ninja/p129_ERUeAB4WBg0SCwcbHgAABAEU_LICA_ninja.vtp', './data/original_data/remeshed/area-005/ninja/p131_EwgfABQHAD4RChIHLRcLFwEG_ninja.vtp', './data/original_data/remeshed/area-005/ninja/p133_AxUADhgAFwoWFxgbAA4GDRAT_ninja.vtp', './data/original_data/remeshed/area-005/ninja/p134_EwkTExwNAT4DEA8IDAkPFxkd_sib_ninja.vtp', './data/original_data/remeshed/area-005/ninja/p135_FAQtEh8dAQANADkcHRQdBBEd_ninja.vtp', './data/original_data/remeshed/area-005/ninja/p136_Fw4fBAoWHQwWHwEAHwQUAhoV_ninja.vtp', './data/original_data/remeshed/area-005/ninja/p137_Bg4eDRUaGw8NCgoDFxMHCwMX_ninja.vtp', './data/original_data/remeshed/area-005/ninja/p140_GA4LHx8RGg4KDQkWGg4XDRoB_ninja.vtp', './data/original_data/remeshed/area-005/ninja/p141_FAQfCBUaAAQNAAsGFxMcABEd_ninja.vtp', './data/original_data/remeshed/area-005/ninja/p142_AwwXAAQAFxMNCAMOBgkLFwYV_ninja.vtp', './data/original_data/remeshed/area-005/ninja/p144_GgAREAUBFxMNBAUeBwgLFx8Z_ninja.vtp', './data/original_data/remeshed/area-005/ninja/p145_HQAAFRkWExMHDAsOABUHCBQK_RICA_ninja.vtp', './data/original_data/remeshed/area-005/ninja/p146_Ag4HCBwEFxMNChMGHg0LFwcX_ninja.vtp', './data/original_data/remeshed/area-005/ninja/p147_Eg4cDxUeGwQNCggBFxcHABcX_ninja.vtp', './data/original_data/remeshed/area-005/ninja/p149_HQQGFQIJBxkNABIbAAAbHRgd_ninja.vtp', './data/original_data/remeshed/area-005/ninja/p150_Bg4cPhcdHBUWCxgAHD4JEBsM_ninja.vtp', './data/original_data/remeshed/area-005/ninja/p151_FAAtDQUSDAAsCRMVFgAxCQAC_sib_ninja.vtp', './data/original_data/remeshed/area-005/ninja/p152_AAQABAoWFxMWHxYKAAQUFRAK_ninja.vtp', './data/original_data/remeshed/area-005/ninja/p153_AwAeAA4JHgAABAoOAQACBAYZ_LICA_1_ninja.vtp', './data/original_data/remeshed/area-005/ninja/p154_HRQeDRUaDBQfCQMdHxQCCRAK_2_ninja.vtp', './data/original_data/remeshed/area-005/ninja/p154_HRQeDRUaDBQfCQMdHxQCCRAK_1_ninja.vtp', './data/original_data/remeshed/area-005/ninja/p157_EgAYExEFGx8SDxQOHwgMBB8K_ninja.vtp', './data/original_data/remeshed/area-005/ninja/p158_Fg4bEgMJER8cDBUcEwIIChwL_ninja.vtp', './data/original_data/remeshed/area-005/ninja/p159_FRIGExEMEx8AERQOFgALFgEK_ninja.vtp', './data/original_data/remeshed/area-005/ninja/p160_GhQGGxUcDBQHHwMbGBQaHxAM_ninja.vtp', './data/original_data/remeshed/area-005/ninja/p161_FBMdGw4aHRsXFwkVFhMBHxEK_ninja.vtp', './data/original_data/remeshed/area-005/ninja/p162_AwkTAxEGGx8bBAQOHAgdDRQa_1sib_ninja.vtp', './data/original_data/remeshed/area-005/ninja/p163_EwkdAxESDAkcBwcVEQkBBxQC_1_ninja.vtp', './data/original_data/remeshed/area-005/ninja/p163_EwkdAxESDAkcBwcVEQkBBxQC_2_ninja.vtp', './data/original_data/remeshed/area-005/ninja/p165_Gw4aDwQHAhENCg4BBg4eFR4X_sib_ninja.vtp', './data/original_data/remeshed/area-005/ninja/p166_AwAcBgUBHAQHEQ8REw8JEBwW_ninja.vtp', './data/original_data/remeshed/area-005/ninja/p167_FxMTDxQCFwAdGxQOHAUEABQW_ninja.vtp', './data/original_data/remeshed/area-005/ninja/p168_EgQVCAMAHQ0fDBgKFQgdDRoU_ninja.vtp', './data/original_data/remeshed/area-005/ninja/p169_FgAeAhkGFw0fDBgOHgIHCxAU_b_ninja.vtp', './data/original_data/remeshed/area-005/ninja/p170_EgQABhUaDAQBAgMdEAQcAhAK_1_ninja.vtp', './data/original_data/remeshed/area-005/ninja/p170_EgQABhUaDAQBAgMdEAQcAhAK_2_ninja.vtp', './data/original_data/remeshed/area-005/ninja/p171_EgAWBAIcAQIbABQREwULFwEL_1_ninja.vtp', './data/original_data/remeshed/area-005/ninja/p171_EgAWBAIcAQIbABQREwULFwEL_2_ninja.vtp', './data/original_data/remeshed/area-005/ninja/p172_AAAeAAoSHQ8aGwcDExsUChsR_ninja.vtp', './data/original_data/remeshed/area-005/ninja/p174_FAQtDhwBBAQaFwcRFz4BCRwO_ninja.vtp', './data/original_data/remeshed/area-005/ninja/p304_HQQLDREGDAQKCQcBHwQXCRQW_LICA_1_ninja.vtp', './data/original_data/remeshed/area-005/ninja/p304_HQQLDREGDAQKCQcBHwQXCRQW_LICA_2_ninja.vtp', './data/original_data/remeshed/area-005/ninja/p305_HQQLDREGDAQKCQcBHwQXCRQW_RICA_2_ninja.vtp', './data/original_data/remeshed/area-005/ninja/p305_HQQLDREGDAQKCQcBHwQXCRQW_RICA_1_ninja.vtp', './data/original_data/remeshed/area-005/ninja/p305_HQQLDREGDAQKCQcBHwQXCRQW_RICA_3_ninja.vtp', './data/original_data/remeshed/area-005/ninja/p306_HQIbDwQHAQkNBg8BBg4dDRgb_ninja.vtp', './data/original_data/remeshed/area-005/ninja/p307_GxQdDxUGDBQcCwMBGRQBCxAW_ninja.vtp', './data/original_data/remeshed/area-005/ninja/p308_GA4BFRUcBg0WFxgAARULEQEU_ninja.vtp', './data/original_data/remeshed/area-005/ninja/p309_BggTAhMHCB8aBAUMHRsYDBQb_ninja.vtp', './data/original_data/remeshed/area-005/ninja/p310_FA4fDh4WHQwcCwIAHw4AARoV_ninja.vtp', './data/original_data/remeshed/area-005/ninja/p311_GwgcBQUWGw8XEA0GHAUbDhwW_ninja.vtp', './data/original_data/remeshed/area-005/ninja/p312_BggcEh8GDAgdFgkBBAgAFhoW_ninja.vtp', './data/original_data/remeshed/area-005/ninja/p313_EwAfEREGEx8SCBYOHAANBBgI_ninja.vtp', './data/original_data/remeshed/area-005/ninja/p314_Fw0TEgMNCx8fBBUcFxgJCRQL_ninja.vtp', './data/original_data/remeshed/area-005/ninja/p315_FREbDxURDBEaCwMWFxEHCxAB_ninja.vtp', './data/original_data/remeshed/area-005/ninja/p316_Ag4WExkPBwQJGwkLAAgJEBAC_ninja.vtp', './data/original_data/remeshed/area-005/ninja/p317_HRQeDRUaDBQfCQMdHxQCCRAK_ninja.vtp', './data/original_data/remeshed/area-005/ninja/p319_EQ8WGxEFEx8dARwOHwAPCxEC_ninja.vtp', './data/original_data/remeshed/area-005/ninja/p320_FAQRAAIMFxcSBhgKEQAcARAO_ninja.vtp', './data/original_data/remeshed/area-005/ninja/p321_BA4ACBEGGx8cFw8OHAgaCgcR_BA_ninja.vtp', './data/original_data/remeshed/area-005/ninja/p322_BA4ACBEGGz4jLCUuDA4cDBQW_ninja.vtp', './data/original_data/remeshed/area-005/ninja/p323_HggVBhUEGx8aAgEKHggADBIf_ninja.vtp', './data/original_data/remeshed/area-005/ninja/p324_GgARAhEaFh8SBgUOAAUEBBYb_ninja.vtp', './data/original_data/remeshed/area-005/ninja/p325_GwAcBA4JHAQYBAgKGQAAAB4Z_ninja.vtp', './data/original_data/remeshed/area-005/ninja/p326_HA4HDR8dDA4GCQkaHg4bCRoN_1_ninja.vtp', './data/original_data/remeshed/area-005/ninja/p327_BggeDREGBwQFBBgGHg0PCwAd_ninja.vtp', './data/original_data/remeshed/area-005/ninja/p329_HQ4ADBkEHgQNChQCGw0CABgX_ninja.vtp', './data/original_data/remeshed/area-005/ninja/p330_FAQDFBkMBh8WFBMGFhUKAAQN_ninja.vtp', './data/original_data/remeshed/area-005/ninja/p331_Ag4BBAINHBINChUKAAQAFgcX_ninja.vtp', './data/original_data/remeshed/area-005/ninja/p333_AhQdDQMWBw4fFhQaHQ0dFwAX_ninja.vtp', './data/original_data/remeshed/area-005/ninja/p334_FwAHBRkGDAAGAQ8BFQAbARwW_ninja.vtp', './data/original_data/remeshed/area-005/ninja/p336_EwkTDxUSDAkSCwMVEQkPCxAC_ninja.vtp', './data/original_data/remeshed/area-005/ninja/p337_FwQdExcNAR8WChQIFxIJABoK_LICA_ninja.vtp', './data/original_data/remeshed/area-005/ninja/p338_FwQdExcNAR8WChQIFxIJABoK_RICA_ninja.vtp', './data/original_data/remeshed/area-005/ninja/p339_Ag4fAB4WHQwSCxQAHwAAFxoV_ninja.vtp', './data/original_data/remeshed/area-005/ninja/p340_HRQUFRkLDBQVEQ8MHxQIERwb_ninja.vtp', './data/original_data/remeshed/area-005/ninja/p341_HRQcEhMADBQdFgUHHxQAFhYQ_ninja.vtp', './data/original_data/remeshed/area-005/ninja/p342_AAgcCR83HgQaEQMRGw8GCioU_ninja.vtp', './data/original_data/remeshed/area-005/ninja/p343_AgARBB4NBh8SBgMBFxUcBBYd_ninja.vtp', './data/original_data/remeshed/area-005/ninja/p344_AA4UBxUcDA4VAwMbAg4IAxAM_ninja.vtp', './data/original_data/remeshed/area-005/ninja/p345_HRQeDRUaDBQfCQMdHxQCCRAK_ninja.vtp', './data/original_data/remeshed/area-005/ninja/p346_EwkTAhgJHg4NDQcMGgACChYQ_ninja.vtp', './data/original_data/remeshed/area-005/ninja/p347_FAQEBBwJCx8WEwMDExgKAAMd_ninja.vtp', './data/original_data/remeshed/area-005/ninja/p348_Eg4VDwUMEx8cAggaFgAMChIW_ninja.vtp', './data/original_data/remeshed/area-005/ninja/p349_GwgeCBMWGw0aBg0GHggNDhwU_1_ninja.vtp', './data/original_data/remeshed/area-005/ninja/p349_GwgeCBMWGw0aBg0GHggNDhwU_2_ninja.vtp', './data/original_data/remeshed/area-005/ninja/p351_HQQaCA4NGggeAA4GHwQGDBgd_ninja.vtp', './data/original_data/remeshed/area-005/ninja/p352_FggEAAoWGxcSHwAGBAAUAxwO_ninja.vtp', './data/original_data/remeshed/area-005/ninja/p353_EggcChUaBh8aCw0KABUMDBsT_RICA_ninja.vtp', './data/original_data/remeshed/area-005/ninja/p354_ERMIAA4aCAASFxwOExMUBBQK_ninja.vtp', './data/original_data/remeshed/area-005/ninja/p355_EhMXFQ4aFxURFwMbEBMLERcK_ninja.vtp', './data/original_data/remeshed/area-005/ninja/p356_EwAcCAYNCB8SCw8ZFxsNBBsR_ninja.vtp', './data/original_data/remeshed/area-005/ninja/p357_EhMTDxQHHB8BBAgLHQ8MFxQW_ninja.vtp', './data/original_data/remeshed/area-005/ninja/p358_HAQaDxgNABMNAA4BGgQcFxkd_ninja.vtp', './data/original_data/remeshed/area-005/ninja/p359_ExMXGA4aFxgQFwMWERMLHBYK_ninja.vtp', './data/original_data/remeshed/area-005/ninja/p360_AA4RCR8GDA4QDQkBAg4NDRoW_1_ninja.vtp', './data/original_data/remeshed/area-005/ninja/p361_HgABERkGAQoaGwccAggAFh4R_RMCA_ninja.vtp', './data/original_data/remeshed/area-005/ninja/p362_HgABERkGAQoaGwccAggAFh4R_LMCA_ninja.vtp', './data/original_data/remeshed/area-005/ninja/p363_BhQRCh8eGwINEAUEHRcHBgMN_ninja.vtp', './data/original_data/remeshed/area-005/ninja/p364_FQYVEg4PFRIWAgEcFwYJFhAf_ninja.vtp', './data/original_data/remeshed/area-005/ninja/p365_FxQGHwUcFRQHAhMbFRQaAgAM_ninja.vtp', './data/original_data/remeshed/area-005/ninja/p366_EQ8RAAkWHAISHAcBEQAXBBsb_ninja.vtp', './data/original_data/remeshed/area-005/ninja/p367_Eg0TDxMHDA0SCwUAEA0PCxYX_ninja.vtp', './data/original_data/remeshed/area-005/ninja/p368_HA4CBAMWHREWFgoAAgQdCRoI_1_ninja.vtp', './data/original_data/remeshed/area-005/ninja/p368_HA4CBAMWHREWFgoAAgQdCRoI_2_ninja.vtp', './data/original_data/remeshed/area-005/ninja/p369_GAAHEgMEFxMNBBMcAQ0LFx0Z_ninja.vtp', './data/original_data/remeshed/area-005/ninja/p370_HxcXEx4NCx8FABQBFxgBExAK_ninja.vtp', './data/original_data/remeshed/area-005/ninja/p371_HQAICBwEFx8SHw8DHgQDBA8R_asib_ninja.vtp', './data/original_data/remeshed/area-005/ninja/p372_EwkXExkQDAkWFw8XEQkLFxwA_ninja.vtp', './data/original_data/remeshed/area-005/ninja/p373_EwAWAB4WEwUSCwUOFgAABhQc_ninja.vtp', './data/original_data/remeshed/area-005/ninja/p374_EwkXDxEeGwQBGw4KHAAYDBAK_ninja.vtp', './data/original_data/remeshed/area-005/ninja/p375_AwIaBB4DFw0NBg4KHAoLCQYb_1_ninja.vtp', './data/original_data/remeshed/area-005/ninja/p375_AwIaBB4DFw0NBg4KHAoLCQYb_2sib_ninja.vtp', './data/original_data/remeshed/area-005/ninja/p376_AA0TDwQBBAQSEBgDEw8aDAMd_RMCA_2_ninja.vtp', './data/original_data/remeshed/area-005/ninja/p376_AA0TDwQBBAQSEBgDEw8aDAMd_RMCA_1_ninja.vtp', './data/original_data/remeshed/area-005/ninja/p376_AA0TDwQBBAQSEBgDEw8aDAMd_RMCA_3_ninja.vtp', './data/original_data/remeshed/area-005/ninja/p377_AA0TDwQBBAQSEBgDEw8aDAMd_LMCA_ninja.vtp', './data/original_data/remeshed/area-005/ninja/p378_HA4ABB4SHR8cFwMBCA4CCgcd_LICA_ninja.vtp', './data/original_data/remeshed/area-005/ninja/p379_EwAfEREGEx8SCBYOHAANBBgI_LICA_2_ninja.vtp', './data/original_data/remeshed/area-005/ninja/p379_EwAfEREGEx8SCBYOHAANBBgI_LICA_3_ninja.vtp', './data/original_data/remeshed/area-005/ninja/p379_EwAfEREGEx8SCBYOHAANBBgI_LICA_1_ninja.vtp', './data/original_data/remeshed/area-005/ninja/p380_FwgeDRkHCB8aCQoGHRsJDBkU_RICA_ninja.vtp', './data/original_data/remeshed/area-005/ninja/p381_EQ0eBBcaHR8fCQMIAA4PCRkd_ninja.vtp', './data/original_data/remeshed/area-005/ninja/p382_GAALDgoWExgcHw4OCw4UDRQB_ninja.vtp', './data/original_data/remeshed/area-005/ninja/p383_HQ4ABB4HDA4BAAgAHw4cABsX_1_ninja.vtp', './data/original_data/remeshed/area-005/ninja/p383_HQ4ABB4HDA4BAAgAHw4cABsX_2_ninja.vtp', './data/original_data/remeshed/area-005/ninja/p383_HQ4ABB4HDA4BAAgAHw4cABsX_3_ninja.vtp', './data/original_data/remeshed/area-005/ninja/p383_HQ4ABB4HDA4BAAgAHw4cABsX_4_ninja.vtp', './data/original_data/remeshed/area-005/ninja/p384_FAQeBAQaExsNAAoKBhMPHxEd_b_ninja.vtp', './data/original_data/remeshed/area-005/ninja/p385_FAQeFBMJDAQfEAUOFgQCEBYZ_ninja.vtp', './data/original_data/remeshed/area-005/ninja/p386_BAQLEgMBFxMNAB8cAQgLFwEd_ninja.vtp', './data/original_data/remeshed/area-005/ninja/p387_AxQWAB4WBwUSCxUaFgAAFgAc_ninja.vtp', './data/original_data/remeshed/area-005/ninja/p388_Ag4BEhUcDA4AFgMbAA4dFhAM_ninja.vtp', './data/original_data/remeshed/area-005/ninja/p389_HQAAFRkWExMHDAsOABUHCBQK_1_ninja.vtp', './data/original_data/remeshed/area-005/ninja/p389_HQAAFRkWExMHDAsOABUHCBQK_2_ninja.vtp', './data/original_data/remeshed/area-005/ninja/p390_FQ0QEwkLGhUNCQQdCwIGERAU_1_ninja.vtp', './data/original_data/remeshed/area-005/ninja/p390_FQ0QEwkLGhUNCQQdCwIGERAU_2sib_ninja.vtp', './data/original_data/remeshed/area-005/ninja/p390_FQ0QEwkLGhUNCQQdCwIGERAU_3_ninja.vtp', './data/original_data/remeshed/area-005/ninja/p391_GgAcPhQdLQIbAAgKDAAAOhEN_ninja.vtp', './data/original_data/remeshed/area-005/ninja/p392_FBQGEwUNHh8GERQaFw0KEAEK_2_ninja.vtp', './data/original_data/remeshed/area-005/ninja/p392_FBQGEwUNHh8GERQaFw0KEAEK_1_ninja.vtp', './data/original_data/remeshed/area-005/ninja/p393_HQgeDRUcDAgfCQMbHwgCCRAM_ninja.vtp', './data/original_data/remeshed/area-005/ninja/p394_Eg4EAAkWHRcSHAQABAAXBxoO_ninja.vtp', './data/original_data/remeshed/area-005/ninja/p395_BAkdDBEbAQQHGw4AHwAdFhAM_1_ninja.vtp', './data/original_data/remeshed/area-005/ninja/p395_BAkdDBEbAQQHGw4AHwAdFhAM_2_ninja.vtp', './data/original_data/remeshed/area-005/ninja/p396_EQIRDgIMGw8cGwUMHRMKDBsX_ninja.vtp', './data/original_data/remeshed/area-005/ninja/p397_GBQVAAMWBwYSFg4aFQAdDQAf_ninja.vtp', './data/original_data/remeshed/area-005/ninja/p398_AAgRAAIMLQYGDAEBHQ8QDBYZ_LICA_2_ninja.vtp', './data/original_data/remeshed/area-005/ninja/p398_AAgRAAIMLQYGDAEBHQ8QDBYZ_LICA_1_ninja.vtp', './data/original_data/remeshed/area-005/ninja/p399_AAgRAAIMLQYGDAEBHQ8QDBYZ_RICA_3_ninja.vtp', './data/original_data/remeshed/area-005/ninja/p399_AAgRAAIMLQYGDAEBHQ8QDBYZ_RICA_2_ninja.vtp', './data/original_data/remeshed/area-005/ninja/p399_AAgRAAIMLQYGDAEBHQ8QDBYZ_RICA_1_ninja.vtp', './data/original_data/remeshed/area-005/ninja/p400_AgAWDgYJHA4FDAUREwUBExQW_ninja.vtp', './data/original_data/remeshed/area-005/ninja/p401_GwAAAhgNAB8SFwUHFxMFBAcb_b_ninja.vtp', './data/original_data/remeshed/area-005/ninja/p402_GA4BFRUcBg0WFxgAARULEQEU_BA_ninja.vtp', './data/original_data/remeshed/area-005/ninja/p403_BAkXCB4cCB8bAA8BBhsaDRAR_ninja.vtp', './data/original_data/remeshed/area-005/ninja/p404_EgAAAxUSExUNBBQNFxsPERcZ_1_ninja.vtp', './data/original_data/remeshed/area-005/ninja/p404_EgAAAxUSExUNBBQNFxsPERcZ_2_ninja.vtp', './data/original_data/remeshed/area-005/ninja/p405_HRQABRERDBQBAQcWHxQcARQB_ninja.vtp', './data/original_data/remeshed/area-005/ninja/p406_FwgeDRkHCB8aCQoGHRsJDBkU_LICA_ninja.vtp', './data/original_data/remeshed/area-005/ninja/p407_FxQbDRwNBh8GDAoDFxUJEBwU_ninja.vtp', './data/original_data/remeshed/area-005/ninja/p408_FwABEhUaDAAAFgMdFQAdFhAK_ninja.vtp', './data/original_data/remeshed/area-005/ninja/p409_AggGEhMAExMXGw8bAQIGBAcc_ninja.vtp', './data/original_data/remeshed/area-005/ninja/p410_EwAAExkHDAABFw8AEQAcFxwX_ninja.vtp', './data/original_data/remeshed/area-005/ninja/p411_HBQcAAIMGx8GCwcdFggCEBsZ_LICA_ninja.vtp', './data/original_data/remeshed/area-005/ninja/p412_GAAeDREdFxMNBAoDExQLFx0Z_ninja.vtp', './data/original_data/remeshed/area-005/ninja/p413_GgAREAUBFxMNBAUeBwgLFx8Z_RICA_ninja.vtp', './data/original_data/remeshed/area-005/ninja/p414_GgAREAUBFxMNBAUeBwgLFx8Z_LICA_ninja.vtp', './data/original_data/remeshed/area-005/ninja/p415_FhMTBh4BFxMWGxQOFQ8HAAcd_RICA_ninja.vtp', './data/original_data/remeshed/area-005/ninja/p416_FhMTBh4BFxMWGxQOFQ8HAAcd_LICA_ninja.vtp', './data/original_data/remeshed/area-005/ninja/p417_EgAeBRkGDAAfAQ8BEAACARwW_ninja.vtp', './data/original_data/remeshed/area-005/ninja/p418_HRQVBBwBDBQUAAoGHxQJABkR_ninja.vtp', './data/original_data/remeshed/area-005/ninja/p419_HAAcDxkWEw8dDAoOHA8HCRQW_ninja.vtp', './data/original_data/remeshed/area-005/ninja/p420_Bg4cPhUaHgAQDRgAHD4LFxkZ_a_ninja.vtp', './data/original_data/remeshed/area-005/ninja/p421_FwQADBEGGwQBGwMdHwAADBAK_asib_ninja.vtp', './data/original_data/remeshed/area-005/ninja/p422_HQ4eDRUaDA4fCQMdHw4CCRAK_ninja.vtp', './data/original_data/remeshed/area-005/ninja/p423_Eg4HExQBHB8cEBQLGw8MCgAK_ninja.vtp', './data/original_data/remeshed/area-005/ninja/p424_FBQUDgUaDBQVChMdFhQICgAK_ninja.vtp', './data/original_data/remeshed/area-005/ninja/p425_FwQbEhUaDAQaFgMdFQQHFhAK_ninja.vtp', './data/original_data/remeshed/area-005/ninja/p426_Eg4EBAQWHRcWEQQABAQaBxoO_1_ninja.vtp', './data/original_data/remeshed/area-005/ninja/p427_FxMXFRUGFxMNFwMbFw8LFxIK_ninja.vtp', './data/original_data/remeshed/area-005/ninja/p429_HBQIGxkWBxsJDAoaCBsHCQAC_ninja.vtp', './data/original_data/remeshed/area-005/ninja/p430_AwAeCA4JHggABAoGAQACDAYZ_ninja.vtp', './data/original_data/remeshed/area-005/ninja/p431_BBIbFR8bDBIaEQkcBhIHERoL_1_ninja.vtp', './data/original_data/remeshed/area-005/ninja/p431_BBIbFR8bDBIaEQkcBhIHERoL_2_ninja.vtp', './data/original_data/remeshed/area-005/ninja/p432_BgQcBAQSDAQdABIVBAQAAAEC_ninja.vtp', './data/original_data/remeshed/area-005/ninja/p433_HQQAAhEMHR8WFwUOFg4DAAcb_1_ninja.vtp', './data/original_data/remeshed/area-005/ninja/p434_GgAREAUNHw4GARgOERAbABgX_1a_ninja.vtp', './data/original_data/remeshed/area-005/ninja/p434_GgAREAUNHw4GARgOERAbABgX_2_ninja.vtp', './data/original_data/remeshed/area-005/ninja/p435_FAQeCAQaHRsNAAoGBhMBHxEd_ninja.vtp', './data/original_data/remeshed/area-005/ninja/p436_FwQeBBIJABUNAAoKEAAcERId_ninja.vtp', './data/original_data/remeshed/area-005/ninja/p437_FAQQDh4bDAQRCggcFgQMChsL_ninja.vtp', './data/original_data/remeshed/area-005/ninja/p438_AggQAAUQDAgRBBMXAAgMBAAA_1_ninja.vtp', './data/original_data/remeshed/area-005/ninja/p438_AggQAAUQDAgRBBMXAAgMBAAA_2_ninja.vtp', './data/original_data/remeshed/area-005/ninja/p439_HwYbBAIWFQgWFwkIGwQcChIR_RICA_1_ninja.vtp', './data/original_data/remeshed/area-005/ninja/p439_HwYbBAIWFQgWFwkIGwQcChIR_RICA_2_ninja.vtp', './data/original_data/remeshed/area-005/ninja/p440_HwYbBAIWFQgWFwkIGwQcChIR_LICA_ninja.vtp', './data/original_data/remeshed/area-005/ninja/p441_AgQHEhUWFxQAABQKBxILFxAN_1_ninja.vtp', './data/original_data/remeshed/area-005/ninja/p442_EhMHDx4NAB8BEAgBFxMMFwAW_RICA_ninja.vtp', './data/original_data/remeshed/area-005/ninja/p443_FQgRCRUGEAQBAgMdDAgNDRAW_1sib_ninja.vtp', './data/original_data/remeshed/area-005/ninja/p444_GBQVFBUGHRUHABgaFRQLCxoM_1_ninja.vtp', './data/original_data/remeshed/area-005/ninja/p444_GBQVFBUGHRUHABgaFRQLCxoM_2_ninja.vtp', './data/original_data/remeshed/area-005/ninja/p446_Ag4WExkPBwQJGwkLAAgJEBAC_RICA_2_ninja.vtp', './data/original_data/remeshed/area-005/ninja/p446_Ag4WExkPBwQJGwkLAAgJEBAC_RICA_1_ninja.vtp', './data/original_data/remeshed/area-005/ninja/p447_GBQfAxUaBh8GCAQKABUGEBga_4_ninja.vtp', './data/original_data/remeshed/area-005/ninja/p447_GBQfAxUaBh8GCAQKABUGEBga_3_ninja.vtp', './data/original_data/remeshed/area-005/ninja/p447_GBQfAxUaBh8GCAQKABUGEBga_1sib_ninja.vtp', './data/original_data/remeshed/area-005/ninja/p448_Ew0TFBQNDA0SEAIKEQ0PEBEd_b_ninja.vtp', './data/original_data/remeshed/area-005/ninja/p449_AxUHAhsRDBUGBg0WARUbBh4B_ninja.vtp', './data/original_data/remeshed/area-005/ninja/p450_FAQtDhwBBAQaFwcRFz4BCRwO_ninja.vtp', './data/original_data/remeshed/area-005/ninja/p451_FwQADBEGGwQBGwMdHwAADBAK_LICA_2_ninja.vtp', './data/original_data/remeshed/area-005/ninja/p451_FwQADBEGGwQBGwMdHwAADBAK_LICA_1_ninja.vtp', './data/original_data/remeshed/area-005/ninja/p452_EQITDAAHAAANBgcCAg4cBBQb_1_ninja.vtp', './data/original_data/remeshed/area-005/ninja/p452_EQITDAAHAAANBgcCAg4cBBQb_2_ninja.vtp', './data/original_data/remeshed/area-005/ninja/p453_FAQQDh4GFxcaCQoKDAQMChsW_ninja.vtp', './data/original_data/remeshed/area-005/ninja/p454_BwQeDRkGFQQBGwMDHggAAhAK_1_ninja.vtp', './data/original_data/remeshed/area-005/ninja/p455_HQAACB8cBggNBBQGHRUaDBgZ_1_ninja.vtp', './data/original_data/remeshed/area-005/ninja/p456_BhQbDRwNDBQaCQoKBBQHCRkd_1a_ninja.vtp', './data/original_data/remeshed/area-005/ninja/p457_BA4ADxERDA4BCwcWBg4cCxQB_ninja.vtp', './data/original_data/remeshed/area-005/ninja/p458_HQ4cDxUcDA4dCwMbHw4ACxAM_ninja.vtp', './data/original_data/remeshed/area-005/ninja/p459_FBQRExUcDBQQFwMbFhQNFxAM_ninja.vtp', './data/original_data/remeshed/area-005/ninja/p460_CgQcBhUaDAQdAgMdCAQAAhAK_ninja.vtp', './data/original_data/remeshed/area-005/ninja/p461_AgAECBUaDAAFDAMdAAAYDBAK_ninja.vtp', './data/original_data/remeshed/area-005/ninja/p462_EwAADxURDAABCwMWEQAcCxAB_ninja.vtp', './data/original_data/remeshed/area-005/ninja/p463_AwAQCB8WEwMaChUOEAgBFhQa_1_ninja.vtp', './data/original_data/remeshed/area-005/ninja/p463_AwAQCB8WEwMaChUOEAgBFhQa_2_ninja.vtp', './data/original_data/remeshed/area-005/ninja/p464_ARQABAMAGx8GFwMcGggfEAcd_ninja.vtp', './data/original_data/remeshed/area-005/ninja/p465_Ag4BBAINHBINChUKAAQAFgcX_ninja.vtp', './data/original_data/remeshed/area-005/ninja/p466_AAgeDRUcDAgfCQMbAggCCRAM_ninja.vtp', './data/original_data/remeshed/area-005/ninja/p467_Bg4HFRESDA4GEQcVBA4bERQC_1_ninja.vtp', './data/original_data/remeshed/area-005/ninja/p468_BgQAAAMcFwYGDBgKAAAdERAf_ninja.vtp', './data/original_data/remeshed/area-005/ninja/p469_EQ8WExURDA8XFwMWEw8KFxAB_1_ninja.vtp', './data/original_data/remeshed/area-005/ninja/p469_EQ8WExURDA8XFwMWEw8KFxAB_2_ninja.vtp', './data/original_data/remeshed/area-005/ninja/p470_Gw4EABMNBAgQGwkZEwILExwb_ninja.vtp', './data/original_data/remeshed/area-005/ninja/p471_EhMXEhMBEx8BABUMGwAMFxAL_b_ninja.vtp', './data/original_data/remeshed/area-005/ninja/p472_HAAACAYBFxMWGwcdGxcHAAcd_ninja.vtp', './data/original_data/remeshed/area-005/ninja/p473_AxQRCRUcDBQQDQMbARQNDRAM_a_ninja.vtp', './data/original_data/remeshed/area-005/ninja/p474_FAgdFBYWGw4GAwIGHRQIARwX_RICA_ninja.vtp', './data/original_data/remeshed/area-005/ninja/p475_FAgdFBYWGw4GAwIGHRQIARwX_LICA_b_ninja.vtp', './data/original_data/remeshed/area-005/ninja/p476_Ag4RCREcDA4QDQcbAA4NDRQM_ninja.vtp', './data/original_data/remeshed/area-005/ninja/p477_EgAIDgYNABMKGwcVHRcLFwcB_ninja.vtp', './data/original_data/remeshed/area-005/ninja/p478_FhMdEgMJAAUNFwkcAQAcARMK_ninja.vtp', './data/original_data/remeshed/area-005/ninja/p479_FBMdGw4aHRsXFwkVFhMBHxEK_ninja.vtp', './data/original_data/remeshed/area-005/ninja/p480_GRIXDxkWAQQdDA8cFw8HDAYd_LICA_ninja.vtp', './data/original_data/remeshed/area-005/ninja/p481_GRIXDxkWAQQdDA8cFw8HDAYd_RICA_ninja.vtp', './data/original_data/remeshed/area-005/ninja/p482_AwAaCAQBDAAbDBIGAQAGDAER_ninja.vtp', './data/original_data/remeshed/area-005/ninja/p483_CQABEhkGDAAAFg8BCwAdFhwW_1_ninja.vtp', './data/original_data/remeshed/area-005/ninja/p483_CQABEhkGDAAAFg8BCwAdFhwW_2_ninja.vtp', './data/original_data/remeshed/area-005/ninja/p484_FwgADhQWGxMcAQEGAA4KAhwK_ninja.vtp', './data/original_data/remeshed/area-005/ninja/p485_FwkXAwINHAQUEBURGgQMFxAW_ninja.vtp', './data/original_data/remeshed/area-005/ninja/p486_AwQAFxEBAR8WFxAOGxIdAAcO_ninja.vtp', './data/original_data/remeshed/area-005/ninja/p487_BwAVBB4WEwYWCxEOFQQAEhQf_ninja.vtp', './data/original_data/remeshed/area-005/ninja/p488_BAkbBAIRDAkaABQWBgkHAAcB_LV_ninja.vtp', './data/original_data/remeshed/area-005/ninja/p489_BAkbBAIRDAkaABQWBgkHAAcB_LICA_ninja.vtp', './data/original_data/remeshed/area-005/ninja/p490_EhMHDx4NAB8BEAgBFxMMFwAW_1_ninja.vtp', './data/original_data/remeshed/area-005/ninja/p491_EgQcFxUGBxUaGwMBBAQAEAER_RICA_1_ninja.vtp', './data/original_data/remeshed/area-005/ninja/p491_EgQcFxUGBxUaGwMBBAQAEAER_RICA_2_ninja.vtp', './data/original_data/remeshed/area-005/ninja/p492_EgQcFxUGBxUaGwMBBAQAEAER_LICA_ninja.vtp', './data/original_data/remeshed/area-005/ninja/p493_AgQbEi8aGwMWDBQADAQHFioK_a_ninja.vtp', './data/original_data/remeshed/area-005/ninja/p494_FwARCR8dFh8SBg4ABwUJBBYQ_b_ninja.vtp', './data/original_data/remeshed/area-005/ninja/p495_AAQAExkGDAQBFw8BAgQcFxwW_1_ninja.vtp', './data/original_data/remeshed/area-005/ninja/p495_AAQAExkGDAQBFw8BAgQcFxwW_2_ninja.vtp', './data/original_data/remeshed/area-005/ninja/p496_HQgeCRkcDAgfDQ8bHwgCDRwM_ninja.vtp', './data/original_data/remeshed/area-005/ninja/p497_AwIaCBUbAR8QDQ8KARIdBh0R_ninja.vtp', './data/original_data/remeshed/area-005/ninja/p498_Fw4fBAoWHQwWHwEAHwQUAhoV_LICA_ninja.vtp', './data/original_data/remeshed/area-005/ninja/p499_Fw4fBAoWHQwWHwEAHwQUAhoV_RICA_1_ninja.vtp', './data/original_data/remeshed/area-005/ninja/p499_Fw4fBAoWHQwWHwEAHwQUAhoV_RICA_2a_ninja.vtp', './data/original_data/remeshed/area-005/ninja/p500_FAAtEhkEBAANBDkcGw0YBBEZ_ninja.vtp', './data/original_data/remeshed/area-005/ninja/p501_GAQWCBcNAB8WAQ8IFxMGABER_ninja.vtp', './data/original_data/remeshed/area-005/ninja/p502_Ag4LHx8RAA4KFwkWAA4XFxoB_RICA_ninja.vtp', './data/original_data/remeshed/area-005/ninja/p503_Ag4LHx8RAA4KFwkWAA4XFxoB_LICA_ninja.vtp', './data/original_data/remeshed/area-005/ninja/p504_Gw4dHx8HGQ4cDgkAGQ4BDhoX_ninja.vtp', './data/original_data/remeshed/area-005/ninja/p505_FwQAAxEdHhUNABQNExQCERId_ninja.vtp', './data/original_data/remeshed/area-005/ninja/p506_BgAeAhUbEQkaCw8REw0NAAYb_ninja.vtp', './data/original_data/remeshed/area-005/ninja/p507_BAQfERUEDAQeFQMDBgQDFRAU_RICA_ninja.vtp', './data/original_data/remeshed/area-005/ninja/p508_BAQfERUEDAQeFQMDBgQDFRAU_LICA_1_ninja.vtp', './data/original_data/remeshed/area-005/ninja/p508_BAQfERUEDAQeFQMDBgQDFRAU_LICA_2_ninja.vtp', './data/original_data/remeshed/area-005/ninja/p509_EhMdAhgBFxMNFwkMGggLFxcK_RICA_ninja.vtp', './data/original_data/remeshed/area-005/ninja/p510_EhMdAhgBFxMNFwkMGggLFxcK_RV_ninja.vtp', './data/original_data/remeshed/area-005/ninja/p511_GAQAGw4NABsbABQVGgQcHx0d_ninja.vtp', './data/original_data/remeshed/area-005/ninja/p512_FQwfAB4dFw0fDBgCHwAAEBAU_ninja.vtp', './data/original_data/remeshed/area-005/ninja/p513_BA4MDgQHBg4HChIABg4aCgEX_ninja.vtp', './data/original_data/remeshed/area-005/ninja/p514_EwAfEREGEx8SCBYOHAANBBgI_RICA_ninja.vtp', './data/original_data/remeshed/area-005/ninja/p515_Eg0TDxMHDA0SCwUAEA0PCxYX_RICA_b_ninja.vtp', './data/original_data/remeshed/area-005/ninja/p516_FAQEBBwJCx8WEwMDExgKAAMd_LICA_ninja.vtp', './data/original_data/remeshed/area-005/ninja/p517_BAgfDgUbAQAKABgGHw4bFgYZ_RICA_ninja.vtp', './data/original_data/remeshed/area-005/ninja/p518_ERUeAB4WBg0SCwcbHgAABAEU_RICA_1_ninja.vtp', './data/original_data/remeshed/area-005/ninja/p518_ERUeAB4WBg0SCwcbHgAABAEU_RICA_2_ninja.vtp', './data/original_data/remeshed/area-005/ninja/p518_ERUeAB4WBg0SCwcbHgAABAEU_RICA_3_ninja.vtp', './data/original_data/remeshed/area-005/ninja/p519_EgAeDBUaDAAfCAMdEAACCBAK_LICA_1_ninja.vtp', './data/original_data/remeshed/area-005/ninja/p523_GgARAhEaFh8SBgUOAAUEBBYb_RICA_ninja.vtp', './data/original_data/remeshed/area-005/ninja/p525_Ag4BBAINHBINChUKAAQAFgcX_LMCA_1_ninja.vtp', './data/original_data/remeshed/area-005/ninja/p525_Ag4BBAINHBINChUKAAQAFgcX_LMCA_2_ninja.vtp', './data/original_data/remeshed/area-005/ninja/p526_EwkTDxUSDAkSCwMVEQkPCxAC_LICA_ninja.vtp', './data/original_data/remeshed/area-005/ninja/p527_Eg4ADxEGFh8cFwgOHAUMCgcW_ninja.vtp', './data/original_data/remeshed/area-005/ninja/p528_BAAEAAINAR8SEwcdFxIaBAMZ_ninja.vtp', './data/original_data/remeshed/area-005/ninja/p529_HRQcEhgWBw8ADQsaHBIGCAAW_LICA_ninja.vtp', './data/original_data/remeshed/area-005/ninja/p530_AAgcCR83HgQaEQMRGw8GCioU_LICA_ninja.vtp', './data/original_data/remeshed/area-005/ninja/p531_AAgcCR83HgQaEQMRGw8GCioU_RICA_ninja.vtp', './data/original_data/remeshed/area-005/ninja/p532_EwAcCAYNCB8SCw8ZFxsNBBsR_RICA_ninja.vtp', './data/original_data/remeshed/area-005/ninja/p533_BhQRCh8eGwINEAUEHRcHBgMN_RICA_1_ninja.vtp', './data/original_data/remeshed/area-005/ninja/p533_BhQRCh8eGwINEAUEHRcHBgMN_RICA_2_ninja.vtp', './data/original_data/remeshed/area-005/ninja/p534_Ag4BEhUcDA4AFgMbAA4dFhAM_RICA_ninja.vtp', './data/original_data/remeshed/area-005/ninja/p535_FQ0QEwkLGhUNCQQdCwIGERAU_LICA_1sib_ninja.vtp', './data/original_data/remeshed/area-005/ninja/p536_GBQVAAMWBwYSFg4aFQAdDQAf_LICA_1_ninja.vtp', './data/original_data/remeshed/area-005/ninja/p536_GBQVAAMWBwYSFg4aFQAdDQAf_LICA_2_ninja.vtp', './data/original_data/remeshed/area-005/ninja/p538_EgAAAxUSExUNBBQNFxsPERcZ_LICA_ninja.vtp', './data/original_data/remeshed/area-005/ninja/p540_FxQbDRwNBh8GDAoDFxUJEBwU_RICA_ninja.vtp', './data/original_data/remeshed/area-005/ninja/p541_AAgRAAIMLQYGDAEBHQ8xNzw7MQ==_Acom_1_ninja.vtp', './data/original_data/remeshed/area-005/ninja/p541_AAgRAAIMLQYGDAEBHQ8xNzw7MQ==_Acom_2_ninja.vtp', './data/original_data/remeshed/area-005/ninja/p543_HBQcAAIMGx8GCwcdFggCEBsZ_Rpericallous_ninja.vtp', './data/original_data/remeshed/area-005/ninja/p544_BBIbFR8bDBIaEQkcBhIHERoL_RICA_ninja.vtp', './data/original_data/remeshed/area-005/ninja/p547_Eg4cDxUeGwQNCggBFxcHABcX_RICA_ninja.vtp', './data/original_data/remeshed/area-005/ninja/p548_FAAtDQUSDAAsCRMVFgAxCQAC_LICA_ninja.vtp', './data/original_data/remeshed/area-005/ninja/p549_AwAeAA4JHgAABAoOAQACBAYZ_TB_ninja.vtp', './data/original_data/remeshed/area-005/ninja/p550_Gw4aDwQHAhENCg4BBg4eFR4X_LICA_ninja.vtp', './data/original_data/remeshed/area-005/ninja/p551_EwkdAxESDAkcBwcVEQkBBxQC_RMCA_1_ninja.vtp', './data/original_data/remeshed/area-005/ninja/p551_EwkdAxESDAkcBwcVEQkBBxQC_RMCA_2_ninja.vtp', './data/original_data/remeshed/area-005/ninja/p552_AwkTAxEGGx8bBAQOHAgdDRQa_RICA_1_ninja.vtp', './data/original_data/remeshed/area-005/ninja/p552_AwkTAxEGGx8bBAQOHAgdDRQa_RICA_2_ninja.vtp', './data/original_data/remeshed/area-005/ninja/p553_FxMTDxQCFwAdGxQOHAUEABQW_RICA_2_ninja.vtp', './data/original_data/remeshed/area-005/ninja/p553_FxMTDxQCFwAdGxQOHAUEABQW_RICA_1_ninja.vtp', './data/original_data/remeshed/area-005/ninja/p554_AwQAFxEBAR8WFxAOGxIdAAcO_RICA_ninja.vtp', './data/original_data/remeshed/area-005/ninja/p555_AAQAExkGDAQBFw8BAgQcFxwW_TB_ninja.vtp', './data/original_data/remeshed/area-005/ninja/SNF00000024_ninja.vtp', './data/original_data/remeshed/area-005/ninja/SNF00000026_ninja.vtp', './data/original_data/remeshed/area-005/ninja/SNF00000027_ninja.vtp', './data/original_data/remeshed/area-005/ninja/SNF00000036_01_1_ninja.vtp', './data/original_data/remeshed/area-005/ninja/SNF00000036_02_2_ninja.vtp', './data/original_data/remeshed/area-005/ninja/SNF00000048_ninja.vtp', './data/original_data/remeshed/area-005/ninja/SNF00000049_01_1_ninja.vtp', './data/original_data/remeshed/area-005/ninja/SNF00000049_01_2_ninja.vtp', './data/original_data/remeshed/area-005/ninja/SNF00000049_01_3_ninja.vtp', './data/original_data/remeshed/area-005/ninja/SNF00000049_01_4_ninja.vtp', './data/original_data/remeshed/area-005/ninja/SNF00000054_01_1_ninja.vtp', './data/original_data/remeshed/area-005/ninja/SNF00000054_01_2_ninja.vtp', './data/original_data/remeshed/area-005/ninja/SNF00000055_ninja.vtp', './data/original_data/remeshed/area-005/ninja/SNF00000059_ninja.vtp', './data/original_data/remeshed/area-005/ninja/SNF00000063_ninja.vtp', './data/original_data/remeshed/area-005/ninja/SNF00000070_ninja.vtp', './data/original_data/remeshed/area-005/ninja/SNF00000074_ninja.vtp', './data/original_data/remeshed/area-005/ninja/SNF00000077_01_1_ninja.vtp', './data/original_data/remeshed/area-005/ninja/SNF00000077_01_2_ninja.vtp', './data/original_data/remeshed/area-005/ninja/SNF00000082_ninja.vtp', './data/original_data/remeshed/area-005/ninja/SNF00000090_ninja.vtp', './data/original_data/remeshed/area-005/ninja/SNF00000094_01_1_ninja.vtp', './data/original_data/remeshed/area-005/ninja/SNF00000094_01_2_ninja.vtp', './data/original_data/remeshed/area-005/ninja/SNF00000095_ninja.vtp', './data/original_data/remeshed/area-005/ninja/SNF00000100_ninja.vtp', './data/original_data/remeshed/area-005/ninja/SNF00000114_ninja.vtp', './data/original_data/remeshed/area-005/ninja/SNF00000125_ninja.vtp', './data/original_data/remeshed/area-005/ninja/SNF00000126_ninja.vtp', './data/original_data/remeshed/area-005/ninja/SNF00000128_ninja.vtp', './data/original_data/remeshed/area-005/ninja/SNF00000130_01_1sib_ninja.vtp', './data/original_data/remeshed/area-005/ninja/SNF00000135_ninja.vtp', './data/original_data/remeshed/area-005/ninja/SNF00000141_ninja.vtp', './data/original_data/remeshed/area-005/ninja/SNF00000142_01_1sib_ninja.vtp', './data/original_data/remeshed/area-005/ninja/SNF00000143_01_1_ninja.vtp', './data/original_data/remeshed/area-005/ninja/SNF00000143_01_2_ninja.vtp', './data/original_data/remeshed/area-005/ninja/SNF00000144_ninja.vtp', './data/original_data/remeshed/area-005/ninja/SNF00000146_ninja.vtp', './data/original_data/remeshed/area-005/ninja/SNF00000148_ninja.vtp', './data/original_data/remeshed/area-005/ninja/SNF00000152_ninja.vtp', './data/original_data/remeshed/area-005/ninja/SNF00000154_ninja.vtp', './data/original_data/remeshed/area-005/ninja/SNF00000173_ninja.vtp', './data/original_data/remeshed/area-005/ninja/SNF00000175_ninja.vtp', './data/original_data/remeshed/area-005/ninja/SNF00000185_ninja.vtp', './data/original_data/remeshed/area-005/ninja/SNF00000186_ninja.vtp', './data/original_data/remeshed/area-005/ninja/SNF00000189_1sib_ninja.vtp', './data/original_data/remeshed/area-005/ninja/SNF00000208_01_1_ninja.vtp', './data/original_data/remeshed/area-005/ninja/SNF00000208_01_2_ninja.vtp', './data/original_data/remeshed/area-005/ninja/SNF00000215_ninja.vtp', './data/original_data/remeshed/area-005/ninja/SNF00000228_01_1_ninja.vtp', './data/original_data/remeshed/area-005/ninja/SNF00000228_01_2_ninja.vtp', './data/original_data/remeshed/area-005/ninja/SNF00000252_ninja.vtp', './data/original_data/remeshed/area-005/ninja/SNF00000259_01_1_ninja.vtp', './data/original_data/remeshed/area-005/ninja/SNF00000259_01_2_ninja.vtp', './data/original_data/remeshed/area-005/ninja/SNF00000261_ninja.vtp', './data/original_data/remeshed/area-005/ninja/SNF00000267_ninja.vtp', './data/original_data/remeshed/area-005/ninja/SNF00000270_ninja.vtp', './data/original_data/remeshed/area-005/ninja/SNF00000273_ninja.vtp', './data/original_data/remeshed/area-005/ninja/SNF00000284_ninja.vtp', './data/original_data/remeshed/area-005/ninja/SNF00000285_ninja.vtp', './data/original_data/remeshed/area-005/ninja/SNF00000286_ninja.vtp', './data/original_data/remeshed/area-005/ninja/SNF00000294_01_1_ninja.vtp', './data/original_data/remeshed/area-005/ninja/SNF00000294_01_2_ninja.vtp', './data/original_data/remeshed/area-005/ninja/SNF00000303_ninja.vtp', './data/original_data/remeshed/area-005/ninja/SNF00000309_ninja.vtp', './data/original_data/remeshed/area-005/ninja/SNF00000332_ninja.vtp', './data/original_data/remeshed/area-005/ninja/SNF00000335_ninja.vtp', './data/original_data/remeshed/area-005/ninja/SNF00000338_ninja.vtp', './data/original_data/remeshed/area-005/ninja/SNF00000344_ninja.vtp', './data/original_data/remeshed/area-005/ninja/SNF00000350_ninja.vtp', './data/original_data/remeshed/area-005/ninja/SNF00000357_ninja.vtp', './data/original_data/remeshed/area-005/ninja/SNF00000364_01_1_ninja.vtp', './data/original_data/remeshed/area-005/ninja/SNF00000364_01_2_ninja.vtp', './data/original_data/remeshed/area-005/ninja/SNF00000365_01_1_ninja.vtp', './data/original_data/remeshed/area-005/ninja/SNF00000365_02_1_ninja.vtp', './data/original_data/remeshed/area-005/ninja/SNF00000373_ninja.vtp', './data/original_data/remeshed/area-005/ninja/SNF00000388_ninja.vtp', './data/original_data/remeshed/area-005/ninja/SNF00000391_ninja.vtp', './data/original_data/remeshed/area-005/ninja/SNF00000398_ninja.vtp', './data/original_data/remeshed/area-005/ninja/SNF00000411_ninja.vtp', './data/original_data/remeshed/area-005/ninja/SNF00000415_ninja.vtp', './data/original_data/remeshed/area-005/ninja/SNF00000425_ninja.vtp', './data/original_data/remeshed/area-005/ninja/SNF00000426_01_1_ninja.vtp', './data/original_data/remeshed/area-005/ninja/SNF00000426_02_2_ninja.vtp', './data/original_data/remeshed/area-005/ninja/SNF00000426_03_3_ninja.vtp', './data/original_data/remeshed/area-005/ninja/SNF00000440_ninja.vtp', './data/original_data/remeshed/area-005/ninja/SNF00000442_ninja.vtp', './data/original_data/remeshed/area-005/ninja/SNF00000449_ninja.vtp', './data/original_data/remeshed/area-005/ninja/SNF00000452_ninja.vtp', './data/original_data/remeshed/area-005/ninja/SNF00000457_ninja.vtp', './data/original_data/remeshed/area-005/ninja/SNF00000466_ninja.vtp', './data/original_data/remeshed/area-005/ninja/SNF00000472_01_1_ninja.vtp', './data/original_data/remeshed/area-005/ninja/SNF00000472_02_2_ninja.vtp', './data/original_data/remeshed/area-005/ninja/SNF00000481_ninja.vtp', './data/original_data/remeshed/area-005/ninja/SNF00000482_ninja.vtp', './data/original_data/remeshed/area-005/ninja/SNF00000497_01_1_ninja.vtp', './data/original_data/remeshed/area-005/ninja/SNF00000497_02_2_ninja.vtp', './data/original_data/remeshed/area-005/ninja/SNF00000527_ninja.vtp', './data/original_data/remeshed/area-005/ninja/SNF00000529_ninja.vtp', './data/original_data/remeshed/area-005/ninja/SNF00000532_ninja.vtp', './data/original_data/remeshed/area-005/ninja/SNF00000535_ninja.vtp', './data/original_data/remeshed/area-005/ninja/SNF00000538_01_1_ninja.vtp', './data/original_data/remeshed/area-005/ninja/SNF00000538_02_2_ninja.vtp', './data/original_data/remeshed/area-005/ninja/SNF00000553_01_1_ninja.vtp', './data/original_data/remeshed/area-005/ninja/SNF00000553_02_2_ninja.vtp', './data/original_data/remeshed/area-005/ninja/SNF00000554_01_1_ninja.vtp', './data/original_data/remeshed/area-005/ninja/SNF00000556_ninja.vtp', './data/original_data/remeshed/area-005/ninja/SNF00000557_ninja.vtp', './data/original_data/remeshed/area-005/ninja/SNF00000570_ninja.vtp', './data/original_data/remeshed/area-005/ninja/SNF00000580_ninja.vtp', './data/original_data/remeshed/area-005/ninja/SNF00000581_ninja.vtp', './data/original_data/remeshed/area-005/ninja/SNF00000591_ninja.vtp', './data/original_data/remeshed/area-005/ninja/SNF00000592_01_1_ninja.vtp', './data/original_data/remeshed/area-005/ninja/SNF00000592_03_3_ninja.vtp', './data/original_data/remeshed/area-005/ninja/SNF00000592_03_4_ninja.vtp', './data/original_data/remeshed/area-005/ninja/SNF00000596_ninja.vtp', './data/original_data/remeshed/area-005/ninja/SNF00000606_ninja.vtp', './data/original_data/remeshed/area-005/ninja/SNF00000607_01_1_ninja.vtp', './data/original_data/remeshed/area-005/ninja/SNF00000607_01_2_ninja.vtp', './data/original_data/remeshed/area-005/ninja/SNF00000614_ninja.vtp', './data/original_data/remeshed/area-005/ninja/SNF00000617_ninja.vtp']\n"
     ]
    }
   ],
   "source": [
    "from data.mesh_and_cut import *\n",
    "from data.DataLoad_utils import validate_mesh_resolution,validate_cut_type\n",
    "update_mesh_resolution(new_mesh_resolution=1)\n",
    "update_cut_type(new_cut_type='ninja')\n",
    "validate_mesh_resolution()\n",
    "validate_cut_type()"
   ],
   "metadata": {
    "colab": {
     "base_uri": "https://localhost:8080/"
    },
    "id": "1aceacfa76da4775",
    "executionInfo": {
     "status": "ok",
     "timestamp": 1692734486923,
     "user_tz": -60,
     "elapsed": 15587,
     "user": {
      "displayName": "ʕ •ᴥ•ʔ",
      "userId": "18410415948631689741"
     }
    },
    "outputId": "0c574ad9-a53d-4051-d917-a543d668ada1"
   },
   "id": "1aceacfa76da4775"
  },
  {
   "cell_type": "code",
   "execution_count": 5,
   "outputs": [
    {
     "output_type": "stream",
     "name": "stdout",
     "text": [
      "Pre-processing train data to ./data/processed_data/ready2feed_point_cloud/train/area_001_ninja_points_and_labels.dat\n",
      "./data/processed_data/extracted_point_cloud/area-001/ninja/C0093_ninja.csv\n"
     ]
    },
    {
     "output_type": "error",
     "ename": "FileNotFoundError",
     "evalue": "ignored",
     "traceback": [
      "\u001B[0;31m---------------------------------------------------------------------------\u001B[0m",
      "\u001B[0;31mFileNotFoundError\u001B[0m                         Traceback (most recent call last)",
      "\u001B[0;32m<ipython-input-5-185010d818f4>\u001B[0m in \u001B[0;36m<cell line: 5>\u001B[0;34m()\u001B[0m\n\u001B[1;32m      3\u001B[0m \u001B[0;32mfrom\u001B[0m \u001B[0mconstruct_PC_model\u001B[0m \u001B[0;32mimport\u001B[0m \u001B[0mclassifier\u001B[0m\u001B[0;34m\u001B[0m\u001B[0;34m\u001B[0m\u001B[0m\n\u001B[1;32m      4\u001B[0m \u001B[0;32mfrom\u001B[0m \u001B[0mtqdm\u001B[0m \u001B[0;32mimport\u001B[0m \u001B[0mtqdm\u001B[0m\u001B[0;34m\u001B[0m\u001B[0;34m\u001B[0m\u001B[0m\n\u001B[0;32m----> 5\u001B[0;31m \u001B[0;32mfrom\u001B[0m \u001B[0mtraining_utils\u001B[0m \u001B[0;32mimport\u001B[0m \u001B[0mjudging_computation_device\u001B[0m\u001B[0;34m,\u001B[0m\u001B[0mscheduler\u001B[0m\u001B[0;34m,\u001B[0m\u001B[0mval\u001B[0m\u001B[0;34m,\u001B[0m\u001B[0mrandom_point_dropout\u001B[0m\u001B[0;34m,\u001B[0m\u001B[0mrandom_scale_point_cloud\u001B[0m\u001B[0;34m,\u001B[0m\u001B[0mshift_point_cloud\u001B[0m\u001B[0;34m,\u001B[0m\u001B[0mrotate_point_cloud\u001B[0m\u001B[0;34m\u001B[0m\u001B[0;34m\u001B[0m\u001B[0m\n\u001B[0m\u001B[1;32m      6\u001B[0m \u001B[0;32mfrom\u001B[0m \u001B[0mconstruct_PC_model\u001B[0m \u001B[0;32mimport\u001B[0m \u001B[0moptimizer\u001B[0m\u001B[0;34m,\u001B[0m\u001B[0mcriterion\u001B[0m\u001B[0;34m,\u001B[0m\u001B[0mlearning_rate\u001B[0m\u001B[0;34m\u001B[0m\u001B[0;34m\u001B[0m\u001B[0m\n\u001B[1;32m      7\u001B[0m \u001B[0;31m# import training_utils\u001B[0m\u001B[0;34m\u001B[0m\u001B[0;34m\u001B[0m\u001B[0m\n",
      "\u001B[0;32m/content/drive/MyDrive/Colab Notebooks/final/training_utils.py\u001B[0m in \u001B[0;36m<module>\u001B[0;34m\u001B[0m\n\u001B[1;32m      7\u001B[0m \u001B[0mbatch_size\u001B[0m\u001B[0;34m=\u001B[0m\u001B[0;36m10\u001B[0m\u001B[0;34m\u001B[0m\u001B[0;34m\u001B[0m\u001B[0m\n\u001B[1;32m      8\u001B[0m \u001B[0mnum_workers\u001B[0m\u001B[0;34m=\u001B[0m\u001B[0;36m0\u001B[0m\u001B[0;34m\u001B[0m\u001B[0;34m\u001B[0m\u001B[0m\n\u001B[0;32m----> 9\u001B[0;31m \u001B[0mtrain_dataset\u001B[0m\u001B[0;34m,\u001B[0m\u001B[0mval_dataset\u001B[0m\u001B[0;34m,\u001B[0m\u001B[0mtest_dataset\u001B[0m\u001B[0;34m=\u001B[0m\u001B[0mgenerate_dataset\u001B[0m\u001B[0;34m(\u001B[0m\u001B[0;34m)\u001B[0m\u001B[0;34m\u001B[0m\u001B[0;34m\u001B[0m\u001B[0m\n\u001B[0m\u001B[1;32m     10\u001B[0m \u001B[0mtrain_DataLoader\u001B[0m \u001B[0;34m=\u001B[0m \u001B[0mDataLoader\u001B[0m\u001B[0;34m(\u001B[0m\u001B[0mtrain_dataset\u001B[0m\u001B[0;34m,\u001B[0m \u001B[0mbatch_size\u001B[0m\u001B[0;34m=\u001B[0m\u001B[0mbatch_size\u001B[0m\u001B[0;34m,\u001B[0m \u001B[0mshuffle\u001B[0m\u001B[0;34m=\u001B[0m\u001B[0;32mTrue\u001B[0m\u001B[0;34m,\u001B[0m \u001B[0mnum_workers\u001B[0m\u001B[0;34m=\u001B[0m\u001B[0mnum_workers\u001B[0m\u001B[0;34m)\u001B[0m\u001B[0;34m\u001B[0m\u001B[0;34m\u001B[0m\u001B[0m\n\u001B[1;32m     11\u001B[0m \u001B[0mval_DataLoader\u001B[0m \u001B[0;34m=\u001B[0m \u001B[0mDataLoader\u001B[0m\u001B[0;34m(\u001B[0m\u001B[0mval_dataset\u001B[0m\u001B[0;34m,\u001B[0m \u001B[0mbatch_size\u001B[0m\u001B[0;34m=\u001B[0m\u001B[0mbatch_size\u001B[0m\u001B[0;34m,\u001B[0m \u001B[0mshuffle\u001B[0m\u001B[0;34m=\u001B[0m\u001B[0;32mFalse\u001B[0m\u001B[0;34m,\u001B[0m \u001B[0mnum_workers\u001B[0m\u001B[0;34m=\u001B[0m\u001B[0mnum_workers\u001B[0m\u001B[0;34m)\u001B[0m\u001B[0;34m\u001B[0m\u001B[0;34m\u001B[0m\u001B[0m\n",
      "\u001B[0;32m/content/drive/MyDrive/Colab Notebooks/final/data/DataLoad_utils.py\u001B[0m in \u001B[0;36mgenerate_dataset\u001B[0;34m()\u001B[0m\n\u001B[1;32m    129\u001B[0m \u001B[0;34m\u001B[0m\u001B[0m\n\u001B[1;32m    130\u001B[0m \u001B[0;32mdef\u001B[0m \u001B[0mgenerate_dataset\u001B[0m\u001B[0;34m(\u001B[0m\u001B[0;34m)\u001B[0m\u001B[0;34m:\u001B[0m\u001B[0;34m\u001B[0m\u001B[0;34m\u001B[0m\u001B[0m\n\u001B[0;32m--> 131\u001B[0;31m     \u001B[0mtrain_dataset\u001B[0m \u001B[0;34m=\u001B[0m \u001B[0mAneuXDataLoader\u001B[0m\u001B[0;34m(\u001B[0m\u001B[0msplit\u001B[0m\u001B[0;34m=\u001B[0m\u001B[0;34m'train'\u001B[0m\u001B[0;34m,\u001B[0m\u001B[0mmesh_resolutions\u001B[0m\u001B[0;34m=\u001B[0m\u001B[0mmesh_resolution\u001B[0m\u001B[0;34m,\u001B[0m\u001B[0mcut_type\u001B[0m\u001B[0;34m=\u001B[0m\u001B[0mcut_type\u001B[0m\u001B[0;34m,\u001B[0m\u001B[0mhow_many_points\u001B[0m\u001B[0;34m=\u001B[0m\u001B[0mnum_samples\u001B[0m\u001B[0;34m)\u001B[0m\u001B[0;34m\u001B[0m\u001B[0;34m\u001B[0m\u001B[0m\n\u001B[0m\u001B[1;32m    132\u001B[0m     \u001B[0mval_dataset\u001B[0m \u001B[0;34m=\u001B[0m \u001B[0mAneuXDataLoader\u001B[0m\u001B[0;34m(\u001B[0m\u001B[0msplit\u001B[0m\u001B[0;34m=\u001B[0m\u001B[0;34m'val'\u001B[0m\u001B[0;34m,\u001B[0m\u001B[0mmesh_resolutions\u001B[0m\u001B[0;34m=\u001B[0m\u001B[0mmesh_resolution\u001B[0m\u001B[0;34m,\u001B[0m\u001B[0mcut_type\u001B[0m\u001B[0;34m=\u001B[0m\u001B[0mcut_type\u001B[0m\u001B[0;34m,\u001B[0m\u001B[0mhow_many_points\u001B[0m\u001B[0;34m=\u001B[0m\u001B[0mnum_samples\u001B[0m\u001B[0;34m)\u001B[0m\u001B[0;34m\u001B[0m\u001B[0;34m\u001B[0m\u001B[0m\n\u001B[1;32m    133\u001B[0m     \u001B[0mtest_dataset\u001B[0m \u001B[0;34m=\u001B[0m \u001B[0mAneuXDataLoader\u001B[0m\u001B[0;34m(\u001B[0m\u001B[0msplit\u001B[0m\u001B[0;34m=\u001B[0m\u001B[0;34m'test'\u001B[0m\u001B[0;34m,\u001B[0m\u001B[0mmesh_resolutions\u001B[0m\u001B[0;34m=\u001B[0m\u001B[0mmesh_resolution\u001B[0m\u001B[0;34m,\u001B[0m\u001B[0mcut_type\u001B[0m\u001B[0;34m=\u001B[0m\u001B[0mcut_type\u001B[0m\u001B[0;34m,\u001B[0m\u001B[0mhow_many_points\u001B[0m\u001B[0;34m=\u001B[0m\u001B[0mnum_samples\u001B[0m\u001B[0;34m)\u001B[0m\u001B[0;34m\u001B[0m\u001B[0;34m\u001B[0m\u001B[0m\n",
      "\u001B[0;32m/content/drive/MyDrive/Colab Notebooks/final/data/DataLoad_utils.py\u001B[0m in \u001B[0;36m__init__\u001B[0;34m(self, split, mesh_resolutions, cut_type, how_many_points)\u001B[0m\n\u001B[1;32m    120\u001B[0m \u001B[0;32mclass\u001B[0m \u001B[0mAneuXDataLoader\u001B[0m\u001B[0;34m(\u001B[0m\u001B[0mDataset\u001B[0m\u001B[0;34m)\u001B[0m\u001B[0;34m:\u001B[0m\u001B[0;34m\u001B[0m\u001B[0;34m\u001B[0m\u001B[0m\n\u001B[1;32m    121\u001B[0m     \u001B[0;32mdef\u001B[0m \u001B[0m__init__\u001B[0m\u001B[0;34m(\u001B[0m\u001B[0mself\u001B[0m\u001B[0;34m,\u001B[0m\u001B[0msplit\u001B[0m\u001B[0;34m:\u001B[0m\u001B[0mstr\u001B[0m\u001B[0;34m,\u001B[0m\u001B[0mmesh_resolutions\u001B[0m\u001B[0;34m:\u001B[0m\u001B[0mint\u001B[0m\u001B[0;34m,\u001B[0m\u001B[0mcut_type\u001B[0m\u001B[0;34m:\u001B[0m\u001B[0mstr\u001B[0m\u001B[0;34m,\u001B[0m\u001B[0mhow_many_points\u001B[0m\u001B[0;34m:\u001B[0m\u001B[0mint\u001B[0m\u001B[0;34m)\u001B[0m\u001B[0;34m:\u001B[0m\u001B[0;34m\u001B[0m\u001B[0;34m\u001B[0m\u001B[0m\n\u001B[0;32m--> 122\u001B[0;31m         \u001B[0mself\u001B[0m\u001B[0;34m.\u001B[0m\u001B[0mlist_of_points\u001B[0m\u001B[0;34m,\u001B[0m \u001B[0mself\u001B[0m\u001B[0;34m.\u001B[0m\u001B[0mlist_of_labels\u001B[0m\u001B[0;34m,\u001B[0m\u001B[0mself\u001B[0m\u001B[0;34m.\u001B[0m\u001B[0mdataset_length\u001B[0m\u001B[0;34m=\u001B[0m\u001B[0mpreprocess_data\u001B[0m\u001B[0;34m(\u001B[0m\u001B[0msplit\u001B[0m\u001B[0;34m=\u001B[0m\u001B[0msplit\u001B[0m\u001B[0;34m,\u001B[0m\u001B[0mmesh_resolutions\u001B[0m\u001B[0;34m=\u001B[0m\u001B[0mmesh_resolutions\u001B[0m\u001B[0;34m,\u001B[0m\u001B[0mcut_type\u001B[0m\u001B[0;34m=\u001B[0m\u001B[0mcut_type\u001B[0m\u001B[0;34m,\u001B[0m\u001B[0monly_these_points\u001B[0m\u001B[0;34m=\u001B[0m\u001B[0mhow_many_points\u001B[0m\u001B[0;34m)\u001B[0m\u001B[0;34m\u001B[0m\u001B[0;34m\u001B[0m\u001B[0m\n\u001B[0m\u001B[1;32m    123\u001B[0m     \u001B[0;32mdef\u001B[0m \u001B[0m__len__\u001B[0m\u001B[0;34m(\u001B[0m\u001B[0mself\u001B[0m\u001B[0;34m)\u001B[0m\u001B[0;34m:\u001B[0m\u001B[0;34m\u001B[0m\u001B[0;34m\u001B[0m\u001B[0m\n\u001B[1;32m    124\u001B[0m         \u001B[0;32mreturn\u001B[0m \u001B[0mself\u001B[0m\u001B[0;34m.\u001B[0m\u001B[0mdataset_length\u001B[0m\u001B[0;34m\u001B[0m\u001B[0;34m\u001B[0m\u001B[0m\n",
      "\u001B[0;32m/content/drive/MyDrive/Colab Notebooks/final/data/DataLoad_utils.py\u001B[0m in \u001B[0;36mpreprocess_data\u001B[0;34m(split, mesh_resolutions, cut_type, only_these_points)\u001B[0m\n\u001B[1;32m     92\u001B[0m             \u001B[0mfile_path\u001B[0m \u001B[0;34m=\u001B[0m \u001B[0mdataset_dir\u001B[0m \u001B[0;34m+\u001B[0m \u001B[0mid\u001B[0m \u001B[0;34m+\u001B[0m \u001B[0;34mf'_{cut_type}.csv'\u001B[0m\u001B[0;34m\u001B[0m\u001B[0;34m\u001B[0m\u001B[0m\n\u001B[1;32m     93\u001B[0m             \u001B[0mprint\u001B[0m\u001B[0;34m(\u001B[0m\u001B[0mfile_path\u001B[0m\u001B[0;34m)\u001B[0m\u001B[0;34m\u001B[0m\u001B[0;34m\u001B[0m\u001B[0m\n\u001B[0;32m---> 94\u001B[0;31m             \u001B[0mpoint_set\u001B[0m \u001B[0;34m=\u001B[0m \u001B[0mnp\u001B[0m\u001B[0;34m.\u001B[0m\u001B[0mloadtxt\u001B[0m\u001B[0;34m(\u001B[0m\u001B[0mfile_path\u001B[0m\u001B[0;34m,\u001B[0m \u001B[0mdelimiter\u001B[0m\u001B[0;34m=\u001B[0m\u001B[0;34m','\u001B[0m\u001B[0;34m)\u001B[0m\u001B[0;34m.\u001B[0m\u001B[0mastype\u001B[0m\u001B[0;34m(\u001B[0m\u001B[0mnp\u001B[0m\u001B[0;34m.\u001B[0m\u001B[0mfloat32\u001B[0m\u001B[0;34m)\u001B[0m  \u001B[0;31m# 加载数据文件中的点云数据，将其转换为 NumPy 数组\u001B[0m\u001B[0;34m\u001B[0m\u001B[0;34m\u001B[0m\u001B[0m\n\u001B[0m\u001B[1;32m     95\u001B[0m             \u001B[0mpoint_set\u001B[0m \u001B[0;34m=\u001B[0m \u001B[0mfarthest_point_sample\u001B[0m\u001B[0;34m(\u001B[0m\u001B[0mpoint\u001B[0m\u001B[0;34m=\u001B[0m\u001B[0mpoint_set\u001B[0m\u001B[0;34m,\u001B[0m \u001B[0mnpoint\u001B[0m\u001B[0;34m=\u001B[0m\u001B[0monly_these_points\u001B[0m\u001B[0;34m)\u001B[0m\u001B[0;34m\u001B[0m\u001B[0;34m\u001B[0m\u001B[0m\n\u001B[1;32m     96\u001B[0m             \u001B[0;31m# point_set = point_set[0:only_these_points, :]#直接取了点云的前这么多行\u001B[0m\u001B[0;34m\u001B[0m\u001B[0;34m\u001B[0m\u001B[0m\n",
      "\u001B[0;32m/usr/local/lib/python3.10/dist-packages/numpy/lib/npyio.py\u001B[0m in \u001B[0;36mloadtxt\u001B[0;34m(fname, dtype, comments, delimiter, converters, skiprows, usecols, unpack, ndmin, encoding, max_rows, quotechar, like)\u001B[0m\n\u001B[1;32m   1336\u001B[0m         \u001B[0mdelimiter\u001B[0m \u001B[0;34m=\u001B[0m \u001B[0mdelimiter\u001B[0m\u001B[0;34m.\u001B[0m\u001B[0mdecode\u001B[0m\u001B[0;34m(\u001B[0m\u001B[0;34m'latin1'\u001B[0m\u001B[0;34m)\u001B[0m\u001B[0;34m\u001B[0m\u001B[0;34m\u001B[0m\u001B[0m\n\u001B[1;32m   1337\u001B[0m \u001B[0;34m\u001B[0m\u001B[0m\n\u001B[0;32m-> 1338\u001B[0;31m     arr = _read(fname, dtype=dtype, comment=comment, delimiter=delimiter,\n\u001B[0m\u001B[1;32m   1339\u001B[0m                 \u001B[0mconverters\u001B[0m\u001B[0;34m=\u001B[0m\u001B[0mconverters\u001B[0m\u001B[0;34m,\u001B[0m \u001B[0mskiplines\u001B[0m\u001B[0;34m=\u001B[0m\u001B[0mskiprows\u001B[0m\u001B[0;34m,\u001B[0m \u001B[0musecols\u001B[0m\u001B[0;34m=\u001B[0m\u001B[0musecols\u001B[0m\u001B[0;34m,\u001B[0m\u001B[0;34m\u001B[0m\u001B[0;34m\u001B[0m\u001B[0m\n\u001B[1;32m   1340\u001B[0m                 \u001B[0munpack\u001B[0m\u001B[0;34m=\u001B[0m\u001B[0munpack\u001B[0m\u001B[0;34m,\u001B[0m \u001B[0mndmin\u001B[0m\u001B[0;34m=\u001B[0m\u001B[0mndmin\u001B[0m\u001B[0;34m,\u001B[0m \u001B[0mencoding\u001B[0m\u001B[0;34m=\u001B[0m\u001B[0mencoding\u001B[0m\u001B[0;34m,\u001B[0m\u001B[0;34m\u001B[0m\u001B[0;34m\u001B[0m\u001B[0m\n",
      "\u001B[0;32m/usr/local/lib/python3.10/dist-packages/numpy/lib/npyio.py\u001B[0m in \u001B[0;36m_read\u001B[0;34m(fname, delimiter, comment, quote, imaginary_unit, usecols, skiplines, max_rows, converters, ndmin, unpack, dtype, encoding)\u001B[0m\n\u001B[1;32m    973\u001B[0m             \u001B[0mfname\u001B[0m \u001B[0;34m=\u001B[0m \u001B[0mos\u001B[0m\u001B[0;34m.\u001B[0m\u001B[0mfspath\u001B[0m\u001B[0;34m(\u001B[0m\u001B[0mfname\u001B[0m\u001B[0;34m)\u001B[0m\u001B[0;34m\u001B[0m\u001B[0;34m\u001B[0m\u001B[0m\n\u001B[1;32m    974\u001B[0m         \u001B[0;32mif\u001B[0m \u001B[0misinstance\u001B[0m\u001B[0;34m(\u001B[0m\u001B[0mfname\u001B[0m\u001B[0;34m,\u001B[0m \u001B[0mstr\u001B[0m\u001B[0;34m)\u001B[0m\u001B[0;34m:\u001B[0m\u001B[0;34m\u001B[0m\u001B[0;34m\u001B[0m\u001B[0m\n\u001B[0;32m--> 975\u001B[0;31m             \u001B[0mfh\u001B[0m \u001B[0;34m=\u001B[0m \u001B[0mnp\u001B[0m\u001B[0;34m.\u001B[0m\u001B[0mlib\u001B[0m\u001B[0;34m.\u001B[0m\u001B[0m_datasource\u001B[0m\u001B[0;34m.\u001B[0m\u001B[0mopen\u001B[0m\u001B[0;34m(\u001B[0m\u001B[0mfname\u001B[0m\u001B[0;34m,\u001B[0m \u001B[0;34m'rt'\u001B[0m\u001B[0;34m,\u001B[0m \u001B[0mencoding\u001B[0m\u001B[0;34m=\u001B[0m\u001B[0mencoding\u001B[0m\u001B[0;34m)\u001B[0m\u001B[0;34m\u001B[0m\u001B[0;34m\u001B[0m\u001B[0m\n\u001B[0m\u001B[1;32m    976\u001B[0m             \u001B[0;32mif\u001B[0m \u001B[0mencoding\u001B[0m \u001B[0;32mis\u001B[0m \u001B[0;32mNone\u001B[0m\u001B[0;34m:\u001B[0m\u001B[0;34m\u001B[0m\u001B[0;34m\u001B[0m\u001B[0m\n\u001B[1;32m    977\u001B[0m                 \u001B[0mencoding\u001B[0m \u001B[0;34m=\u001B[0m \u001B[0mgetattr\u001B[0m\u001B[0;34m(\u001B[0m\u001B[0mfh\u001B[0m\u001B[0;34m,\u001B[0m \u001B[0;34m'encoding'\u001B[0m\u001B[0;34m,\u001B[0m \u001B[0;34m'latin1'\u001B[0m\u001B[0;34m)\u001B[0m\u001B[0;34m\u001B[0m\u001B[0;34m\u001B[0m\u001B[0m\n",
      "\u001B[0;32m/usr/local/lib/python3.10/dist-packages/numpy/lib/_datasource.py\u001B[0m in \u001B[0;36mopen\u001B[0;34m(path, mode, destpath, encoding, newline)\u001B[0m\n\u001B[1;32m    191\u001B[0m \u001B[0;34m\u001B[0m\u001B[0m\n\u001B[1;32m    192\u001B[0m     \u001B[0mds\u001B[0m \u001B[0;34m=\u001B[0m \u001B[0mDataSource\u001B[0m\u001B[0;34m(\u001B[0m\u001B[0mdestpath\u001B[0m\u001B[0;34m)\u001B[0m\u001B[0;34m\u001B[0m\u001B[0;34m\u001B[0m\u001B[0m\n\u001B[0;32m--> 193\u001B[0;31m     \u001B[0;32mreturn\u001B[0m \u001B[0mds\u001B[0m\u001B[0;34m.\u001B[0m\u001B[0mopen\u001B[0m\u001B[0;34m(\u001B[0m\u001B[0mpath\u001B[0m\u001B[0;34m,\u001B[0m \u001B[0mmode\u001B[0m\u001B[0;34m,\u001B[0m \u001B[0mencoding\u001B[0m\u001B[0;34m=\u001B[0m\u001B[0mencoding\u001B[0m\u001B[0;34m,\u001B[0m \u001B[0mnewline\u001B[0m\u001B[0;34m=\u001B[0m\u001B[0mnewline\u001B[0m\u001B[0;34m)\u001B[0m\u001B[0;34m\u001B[0m\u001B[0;34m\u001B[0m\u001B[0m\n\u001B[0m\u001B[1;32m    194\u001B[0m \u001B[0;34m\u001B[0m\u001B[0m\n\u001B[1;32m    195\u001B[0m \u001B[0;34m\u001B[0m\u001B[0m\n",
      "\u001B[0;32m/usr/local/lib/python3.10/dist-packages/numpy/lib/_datasource.py\u001B[0m in \u001B[0;36mopen\u001B[0;34m(self, path, mode, encoding, newline)\u001B[0m\n\u001B[1;32m    531\u001B[0m                                       encoding=encoding, newline=newline)\n\u001B[1;32m    532\u001B[0m         \u001B[0;32melse\u001B[0m\u001B[0;34m:\u001B[0m\u001B[0;34m\u001B[0m\u001B[0;34m\u001B[0m\u001B[0m\n\u001B[0;32m--> 533\u001B[0;31m             \u001B[0;32mraise\u001B[0m \u001B[0mFileNotFoundError\u001B[0m\u001B[0;34m(\u001B[0m\u001B[0;34mf\"{path} not found.\"\u001B[0m\u001B[0;34m)\u001B[0m\u001B[0;34m\u001B[0m\u001B[0;34m\u001B[0m\u001B[0m\n\u001B[0m\u001B[1;32m    534\u001B[0m \u001B[0;34m\u001B[0m\u001B[0m\n\u001B[1;32m    535\u001B[0m \u001B[0;34m\u001B[0m\u001B[0m\n",
      "\u001B[0;31mFileNotFoundError\u001B[0m: ./data/processed_data/extracted_point_cloud/area-001/ninja/C0093_ninja.csv not found."
     ]
    }
   ],
   "source": [
    "from torch import load\n",
    "from data.DataLoad_utils import mesh_resolution,cut_type,num_samples\n",
    "from construct_PC_model import classifier\n",
    "from tqdm import tqdm\n",
    "from training_utils import judging_computation_device,scheduler,val,random_point_dropout,random_scale_point_cloud,shift_point_cloud,rotate_point_cloud\n",
    "from construct_PC_model import optimizer,criterion,learning_rate\n",
    "# import training_utils\n",
    "from torch import Tensor, no_grad,save\n",
    "import numpy as np\n",
    "from data.DataLoad_utils import generate_dataset\n",
    "from torch.utils.data import DataLoader"
   ],
   "metadata": {
    "colab": {
     "base_uri": "https://localhost:8080/",
     "height": 473
    },
    "id": "7a4c14cd2cf826d4",
    "executionInfo": {
     "status": "error",
     "timestamp": 1692734489564,
     "user_tz": -60,
     "elapsed": 2645,
     "user": {
      "displayName": "ʕ •ᴥ•ʔ",
      "userId": "18410415948631689741"
     }
    },
    "outputId": "d031d6b1-a947-424e-b58a-d74b44fbe12b",
    "ExecuteTime": {
     "end_time": "2023-08-22T19:25:09.282869Z",
     "start_time": "2023-08-22T19:24:58.945410Z"
    }
   },
   "id": "7a4c14cd2cf826d4"
  },
  {
   "cell_type": "code",
   "execution_count": null,
   "outputs": [],
   "source": [
    "device=judging_computation_device()"
   ],
   "metadata": {
    "id": "e5de313e2b2d3d0",
    "executionInfo": {
     "status": "aborted",
     "timestamp": 1692734489566,
     "user_tz": -60,
     "elapsed": 9,
     "user": {
      "displayName": "ʕ •ᴥ•ʔ",
      "userId": "18410415948631689741"
     }
    },
    "ExecuteTime": {
     "start_time": "2023-08-22T19:25:09.284322Z"
    }
   },
   "id": "e5de313e2b2d3d0"
  },
  {
   "cell_type": "code",
   "execution_count": null,
   "outputs": [],
   "source": [
    "try:\n",
    "    checkpoint = load(f'./checkpoints/best_model_00{mesh_resolution}_{cut_type}.pth')\n",
    "    start_epoch = checkpoint['epoch']\n",
    "    classifier.load_state_dict(checkpoint['model_state_dict'])\n",
    "    print('Paused model found. Resuming...')\n",
    "except:\n",
    "    print('No paused model, training from scratch...')\n",
    "    start_epoch = 0"
   ],
   "metadata": {
    "id": "356154b0e46c7cc5",
    "executionInfo": {
     "status": "aborted",
     "timestamp": 1692734489566,
     "user_tz": -60,
     "elapsed": 8,
     "user": {
      "displayName": "ʕ •ᴥ•ʔ",
      "userId": "18410415948631689741"
     }
    },
    "ExecuteTime": {
     "start_time": "2023-08-22T19:25:09.287637Z"
    }
   },
   "id": "356154b0e46c7cc5"
  },
  {
   "cell_type": "code",
   "execution_count": null,
   "outputs": [],
   "source": [
    "set_epoch=100\n",
    "global_epoch = 0"
   ],
   "metadata": {
    "id": "2f326bf018e84c32",
    "executionInfo": {
     "status": "aborted",
     "timestamp": 1692734489567,
     "user_tz": -60,
     "elapsed": 9,
     "user": {
      "displayName": "ʕ •ᴥ•ʔ",
      "userId": "18410415948631689741"
     }
    },
    "ExecuteTime": {
     "end_time": "2023-08-22T19:25:09.295780Z",
     "start_time": "2023-08-22T19:25:09.291866Z"
    }
   },
   "id": "2f326bf018e84c32"
  },
  {
   "cell_type": "code",
   "execution_count": null,
   "outputs": [],
   "source": [
    "global_step = 0"
   ],
   "metadata": {
    "id": "c957970eb3729a08",
    "executionInfo": {
     "status": "aborted",
     "timestamp": 1692734489567,
     "user_tz": -60,
     "elapsed": 8,
     "user": {
      "displayName": "ʕ •ᴥ•ʔ",
      "userId": "18410415948631689741"
     }
    },
    "ExecuteTime": {
     "start_time": "2023-08-22T19:25:09.294374Z"
    }
   },
   "id": "c957970eb3729a08"
  },
  {
   "cell_type": "code",
   "source": [
    "classifier = classifier.to(device)\n",
    "criterion = criterion.to(device)"
   ],
   "metadata": {
    "id": "XMU9Ib7EkDsl",
    "executionInfo": {
     "status": "aborted",
     "timestamp": 1692734489567,
     "user_tz": -60,
     "elapsed": 8,
     "user": {
      "displayName": "ʕ •ᴥ•ʔ",
      "userId": "18410415948631689741"
     }
    },
    "ExecuteTime": {
     "start_time": "2023-08-22T19:25:09.296828Z"
    }
   },
   "id": "XMU9Ib7EkDsl",
   "execution_count": null,
   "outputs": []
  },
  {
   "cell_type": "code",
   "execution_count": null,
   "outputs": [],
   "source": [
    "batch_size=9\n",
    "num_workers=0\n",
    "train_dataset,val_dataset,test_dataset=generate_dataset()\n",
    "train_DataLoader = DataLoader(train_dataset, batch_size=batch_size, shuffle=True, num_workers=num_workers)\n",
    "val_DataLoader = DataLoader(val_dataset, batch_size=batch_size, shuffle=False, num_workers=num_workers)\n",
    "test_DataLoader = DataLoader(test_dataset, batch_size=batch_size, shuffle=False, num_workers=num_workers)"
   ],
   "metadata": {
    "ExecuteTime": {
     "start_time": "2023-08-22T19:25:09.298502Z"
    },
    "id": "d5620ad3ea957eab",
    "executionInfo": {
     "status": "aborted",
     "timestamp": 1692734489568,
     "user_tz": -60,
     "elapsed": 8,
     "user": {
      "displayName": "ʕ •ᴥ•ʔ",
      "userId": "18410415948631689741"
     }
    }
   },
   "id": "d5620ad3ea957eab"
  },
  {
   "cell_type": "code",
   "execution_count": null,
   "outputs": [],
   "source": [
    "best_instance_acc = 0.0\n",
    "best_class_acc = 0.0"
   ],
   "metadata": {
    "id": "f2729e1e5b7502c2",
    "executionInfo": {
     "status": "aborted",
     "timestamp": 1692734489569,
     "user_tz": -60,
     "elapsed": 49012,
     "user": {
      "displayName": "ʕ •ᴥ•ʔ",
      "userId": "18410415948631689741"
     }
    }
   },
   "id": "f2729e1e5b7502c2"
  },
  {
   "cell_type": "code",
   "execution_count": null,
   "outputs": [],
   "source": [
    "for epoch in range(start_epoch, set_epoch):\n",
    "    print(f'Epoch {global_epoch+ 1} ({epoch+ 1}/{set_epoch}):')\n",
    "    mean_correct = []#每个批次的准确率\n",
    "    classifier = classifier.train()\n",
    "    for batch_id, (points, target) in tqdm(enumerate(train_DataLoader, 0), total=len(train_DataLoader), smoothing=0.9):\n",
    "        optimizer.zero_grad()#优化器梯度清零\n",
    "        #数据增强\n",
    "        points = points.data.numpy()\n",
    "        points = random_point_dropout(points)#随机删除部分点\n",
    "        points[:, :, 0:3] = random_scale_point_cloud(points[:, :, 0:3])#随机缩放\n",
    "        points[:, :, 0:3] = shift_point_cloud(points[:, :, 0:3])#随机平移\n",
    "        points[:, :, 0:3] = rotate_point_cloud(points[:, :, 0:3])#随机旋转\n",
    "        points = Tensor(points)\n",
    "        points = points.transpose(2, 1)#适应模型输入的格式\n",
    "\n",
    "        points, target = points.to(device), target.to(device)\n",
    "\n",
    "        pred, trans_feat = classifier(points)#预测值以及特征变换矩阵\n",
    "        loss = criterion(pred, target.long(), trans_feat)#计算损失\n",
    "        pred_choice = pred.data.max(1)[1]#每个样本的预测类别\n",
    "\n",
    "        correct = pred_choice.eq(target.long().data).cpu().sum()#预测类别与真实标签相等的样本数\n",
    "        mean_correct.append(correct.item() / float(points.size()[0]))#添加到 mean_correct 列表\n",
    "        loss.backward()#计算并记录损失梯度\n",
    "        optimizer.step()#通过优化器执行参数更新\n",
    "        global_step += 1#记录总的训练步数\n",
    "    scheduler.step()#更新学习率\n",
    "    train_instance_acc = np.mean(mean_correct)#该epoch结束时计算并记录平均的训练实例准确率\n",
    "    print(f'Train Instance Accuracy: f{train_instance_acc}')\n",
    "\n",
    "    with no_grad():\n",
    "        instance_acc, class_acc = val(classifier.eval(), val_DataLoader, num_class=2)#计算模型的实例准确率和类别准确率\n",
    "\n",
    "        if instance_acc >= best_instance_acc:\n",
    "            best_instance_acc = instance_acc\n",
    "            best_epoch = epoch + 1\n",
    "\n",
    "            print('Save checkpoint model status...')\n",
    "            savepath = str(checkpoints_dir) + f'/best_model_00{mesh_resolution}_{cut_type}.pth'\n",
    "            print('Saving at %s' % savepath)\n",
    "            state = {\n",
    "                'epoch': best_epoch,\n",
    "                'instance_acc': instance_acc,\n",
    "                'class_acc': class_acc,\n",
    "                'model_state_dict': classifier.state_dict(),\n",
    "                'optimizer_state_dict': optimizer.state_dict(),\n",
    "            }\n",
    "            save(state, savepath)\n",
    "\n",
    "        if class_acc >= best_class_acc:\n",
    "            best_class_acc = class_acc\n",
    "        print('Test Instance Accuracy: %f, Class Accuracy: %f' % (instance_acc, class_acc))\n",
    "        print('Best Instance Accuracy: %f, Class Accuracy: %f' % (best_instance_acc, best_class_acc))\n",
    "\n",
    "        global_epoch += 1"
   ],
   "metadata": {
    "id": "6e661ed2dd45ef89",
    "executionInfo": {
     "status": "aborted",
     "timestamp": 1692734489569,
     "user_tz": -60,
     "elapsed": 49011,
     "user": {
      "displayName": "ʕ •ᴥ•ʔ",
      "userId": "18410415948631689741"
     }
    },
    "ExecuteTime": {
     "start_time": "2023-08-22T19:25:09.300202Z"
    }
   },
   "id": "6e661ed2dd45ef89"
  }
 ],
 "metadata": {
  "kernelspec": {
   "name": "python3",
   "language": "python",
   "display_name": "Python 3 (ipykernel)"
  },
  "language_info": {
   "codemirror_mode": {
    "name": "ipython",
    "version": 2
   },
   "file_extension": ".py",
   "mimetype": "text/x-python",
   "name": "python",
   "nbconvert_exporter": "python",
   "pygments_lexer": "ipython2",
   "version": "2.7.6"
  },
  "colab": {
   "provenance": [],
   "gpuType": "T4"
  },
  "accelerator": "GPU"
 },
 "nbformat": 4,
 "nbformat_minor": 5
}
