{
 "cells": [
  {
   "cell_type": "code",
   "execution_count": null,
   "outputs": [],
   "source": [
    "import os"
   ],
   "metadata": {
    "collapsed": false
   },
   "id": "a6f58987da8c5a7e"
  },
  {
   "cell_type": "code",
   "execution_count": null,
   "outputs": [],
   "source": [
    "matching_files = []\n",
    "for filename in os.listdir(vtp_dir):\n",
    "    if not filename.startswith('.'):  # and filename.endswith(f'_{cut_type}')\n",
    "        parts = filename.rsplit('_', 1)\n",
    "        new_filename = parts[0]  # 取消最后一个下划线及其之后的部分\n",
    "        matching_files.append(new_filename)"
   ],
   "metadata": {
    "collapsed": false
   },
   "id": "c6f96236f9a083ea"
  }
 ],
 "metadata": {
  "kernelspec": {
   "display_name": "Python 3",
   "language": "python",
   "name": "python3"
  },
  "language_info": {
   "codemirror_mode": {
    "name": "ipython",
    "version": 2
   },
   "file_extension": ".py",
   "mimetype": "text/x-python",
   "name": "python",
   "nbconvert_exporter": "python",
   "pygments_lexer": "ipython2",
   "version": "2.7.6"
  }
 },
 "nbformat": 4,
 "nbformat_minor": 5
}
