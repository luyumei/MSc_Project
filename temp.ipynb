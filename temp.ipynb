{
 "cells": [
  {
   "cell_type": "code",
   "execution_count": null,
   "outputs": [],
   "source": [
    "global_var = 10  # 这是一个全局变量\n",
    "\n",
    "def modify_global():\n",
    "    global global_var  # 声明要使用的全局变量\n",
    "    global_var = 20    # 修改全局变量的值\n",
    "\n",
    "modify_global()\n",
    "print(global_var)  # 输出结果为 20，因为全局变量被修改了"
   ],
   "metadata": {
    "collapsed": false
   },
   "id": "4838b903555a998c"
  }
 ],
 "metadata": {
  "kernelspec": {
   "display_name": "Python 3",
   "language": "python",
   "name": "python3"
  },
  "language_info": {
   "codemirror_mode": {
    "name": "ipython",
    "version": 2
   },
   "file_extension": ".py",
   "mimetype": "text/x-python",
   "name": "python",
   "nbconvert_exporter": "python",
   "pygments_lexer": "ipython2",
   "version": "2.7.6"
  }
 },
 "nbformat": 4,
 "nbformat_minor": 5
}
